{
 "cells": [
  {
   "cell_type": "code",
   "execution_count": 15,
   "metadata": {},
   "outputs": [],
   "source": [
    "import os, string\n",
    "import pandas as pd\n",
    "import numpy as np\n",
    "import warnings\n",
    "warnings.filterwarnings('ignore')"
   ]
  },
  {
   "cell_type": "code",
   "execution_count": 2,
   "metadata": {},
   "outputs": [],
   "source": [
    "directory=\"D:\\Trainingsmails_Anonym\"\n",
    "tree=os.listdir(directory)\n"
   ]
  },
  {
   "cell_type": "code",
   "execution_count": 3,
   "metadata": {},
   "outputs": [
    {
     "data": {
      "text/plain": [
       "['Amazon - diverse',\n",
       " 'Angebote-Werbung-Newsletter',\n",
       " 'Bestellbest┬Дaetigungen',\n",
       " 'Kino',\n",
       " 'Mietwagen',\n",
       " 'Rechnungen',\n",
       " 'Reisen',\n",
       " 'Retoure',\n",
       " 'Veranstaltungen',\n",
       " 'Versandbestae┬Дtigung',\n",
       " 'Zahlungseingang']"
      ]
     },
     "execution_count": 3,
     "metadata": {},
     "output_type": "execute_result"
    }
   ],
   "source": [
    "tree"
   ]
  },
  {
   "cell_type": "code",
   "execution_count": 4,
   "metadata": {
    "scrolled": true
   },
   "outputs": [
    {
     "name": "stdout",
     "output_type": "stream",
     "text": [
      "D:\\Trainingsmails_Anonym\n",
      "has 11 folders\n",
      "has 0 files\n",
      "______\n",
      "D:\\Trainingsmails_Anonym\\Amazon - diverse\n",
      "has 0 folders\n",
      "has 41 files\n",
      "______\n",
      "D:\\Trainingsmails_Anonym\\Angebote-Werbung-Newsletter\n",
      "has 0 folders\n",
      "has 305 files\n",
      "______\n",
      "D:\\Trainingsmails_Anonym\\Bestellbest┬Дaetigungen\n",
      "has 1 folders\n",
      "has 190 files\n",
      "______\n",
      "D:\\Trainingsmails_Anonym\\Bestellbest┬Дaetigungen\\Amazon\n",
      "has 0 folders\n",
      "has 138 files\n",
      "______\n",
      "D:\\Trainingsmails_Anonym\\Kino\n",
      "has 0 folders\n",
      "has 9 files\n",
      "______\n",
      "D:\\Trainingsmails_Anonym\\Mietwagen\n",
      "has 0 folders\n",
      "has 5 files\n",
      "______\n",
      "D:\\Trainingsmails_Anonym\\Rechnungen\n",
      "has 0 folders\n",
      "has 128 files\n",
      "______\n",
      "D:\\Trainingsmails_Anonym\\Reisen\n",
      "has 0 folders\n",
      "has 73 files\n",
      "______\n",
      "D:\\Trainingsmails_Anonym\\Retoure\n",
      "has 0 folders\n",
      "has 6 files\n",
      "______\n",
      "D:\\Trainingsmails_Anonym\\Veranstaltungen\n",
      "has 0 folders\n",
      "has 20 files\n",
      "______\n",
      "D:\\Trainingsmails_Anonym\\Versandbestae┬Дtigung\n",
      "has 4 folders\n",
      "has 203 files\n",
      "______\n",
      "D:\\Trainingsmails_Anonym\\Versandbestae┬Дtigung\\DHL\n",
      "has 0 folders\n",
      "has 69 files\n",
      "______\n",
      "D:\\Trainingsmails_Anonym\\Versandbestae┬Дtigung\\DPD\n",
      "has 0 folders\n",
      "has 15 files\n",
      "______\n",
      "D:\\Trainingsmails_Anonym\\Versandbestae┬Дtigung\\GLS\n",
      "has 0 folders\n",
      "has 25 files\n",
      "______\n",
      "D:\\Trainingsmails_Anonym\\Versandbestae┬Дtigung\\UPS\n",
      "has 0 folders\n",
      "has 135 files\n",
      "______\n",
      "D:\\Trainingsmails_Anonym\\Zahlungseingang\n",
      "has 0 folders\n",
      "has 28 files\n",
      "______\n"
     ]
    }
   ],
   "source": [
    "for i in os.walk(directory):\n",
    "    print (i[0])\n",
    "    print (\"has {} folders\".format(len(i[1])))\n",
    "    print (\"has {} files\".format(len(i[2])))\n",
    "    print(\"______\")"
   ]
  },
  {
   "cell_type": "code",
   "execution_count": 5,
   "metadata": {},
   "outputs": [],
   "source": [
    "NEWLINE=\"\\n\""
   ]
  },
  {
   "cell_type": "code",
   "execution_count": 6,
   "metadata": {},
   "outputs": [],
   "source": [
    "def to_base(directory):\n",
    "    base=pd.DataFrame(columns=[\"Text\", \"Label\"])\n",
    "    for address,_,files in os.walk(directory):\n",
    "        for file in files:\n",
    "            if not file.endswith(\".eml\"):\n",
    "                continue\n",
    "            path=os.path.join(address,file)\n",
    "            \n",
    "            with open (path, \"r\", errors='ignore', encoding=\"utf-8\") as f:\n",
    "                passed_header, lines=False, []\n",
    "                for line in f:\n",
    "                    if line.startswith(\"From:\"):\n",
    "                        lines.append(line.replace(\"From: \", \"\").lower())\n",
    "                    if line.startswith(\"Subject:\"):\n",
    "                        lines.append(line.replace(\"Subject: \", \"\").lower())\n",
    "                    if passed_header:\n",
    "                        lines.append(line.lower())\n",
    "                    elif line==NEWLINE:\n",
    "                        passed_header=True\n",
    "            content=NEWLINE.join(lines)            \n",
    "            label=address.split(\"\\\\\")[-1]\n",
    "            row=pd.DataFrame({\"Text\":[content], \"Label\": [label]})\n",
    "            base=base.append(row, ignore_index=True)\n",
    "    return base\n",
    "        "
   ]
  },
  {
   "cell_type": "code",
   "execution_count": 7,
   "metadata": {},
   "outputs": [],
   "source": [
    "data=to_base(directory)"
   ]
  },
  {
   "cell_type": "code",
   "execution_count": 8,
   "metadata": {
    "collapsed": true
   },
   "outputs": [
    {
     "data": {
      "text/html": [
       "<div>\n",
       "<style scoped>\n",
       "    .dataframe tbody tr th:only-of-type {\n",
       "        vertical-align: middle;\n",
       "    }\n",
       "\n",
       "    .dataframe tbody tr th {\n",
       "        vertical-align: top;\n",
       "    }\n",
       "\n",
       "    .dataframe thead th {\n",
       "        text-align: right;\n",
       "    }\n",
       "</style>\n",
       "<table border=\"1\" class=\"dataframe\">\n",
       "  <thead>\n",
       "    <tr style=\"text-align: right;\">\n",
       "      <th></th>\n",
       "      <th>Text</th>\n",
       "      <th>Label</th>\n",
       "    </tr>\n",
       "  </thead>\n",
       "  <tbody>\n",
       "    <tr>\n",
       "      <th>0</th>\n",
       "      <td>amazon.de &lt;promotion5@amazon.de&gt;\\n\\n\"hund hünd...</td>\n",
       "      <td>Amazon - diverse</td>\n",
       "    </tr>\n",
       "    <tr>\n",
       "      <th>1</th>\n",
       "      <td>amazon.de &lt;promotion5@amazon.de&gt;\\n\\n\"milestone...</td>\n",
       "      <td>Amazon - diverse</td>\n",
       "    </tr>\n",
       "    <tr>\n",
       "      <th>2</th>\n",
       "      <td>amazon.de &lt;promotion5@amazon.de&gt;\\n\\namazon.de ...</td>\n",
       "      <td>Amazon - diverse</td>\n",
       "    </tr>\n",
       "    <tr>\n",
       "      <th>3</th>\n",
       "      <td>amazon.de &lt;promotion5@amazon.de&gt;\\n\\namazon.de ...</td>\n",
       "      <td>Amazon - diverse</td>\n",
       "    </tr>\n",
       "    <tr>\n",
       "      <th>4</th>\n",
       "      <td>amazon.de &lt;promotion5@amazon.de&gt;\\n\\namazon.de ...</td>\n",
       "      <td>Amazon - diverse</td>\n",
       "    </tr>\n",
       "  </tbody>\n",
       "</table>\n",
       "</div>"
      ],
      "text/plain": [
       "                                                Text             Label\n",
       "0  amazon.de <promotion5@amazon.de>\\n\\n\"hund hünd...  Amazon - diverse\n",
       "1  amazon.de <promotion5@amazon.de>\\n\\n\"milestone...  Amazon - diverse\n",
       "2  amazon.de <promotion5@amazon.de>\\n\\namazon.de ...  Amazon - diverse\n",
       "3  amazon.de <promotion5@amazon.de>\\n\\namazon.de ...  Amazon - diverse\n",
       "4  amazon.de <promotion5@amazon.de>\\n\\namazon.de ...  Amazon - diverse"
      ]
     },
     "execution_count": 8,
     "metadata": {},
     "output_type": "execute_result"
    }
   ],
   "source": [
    "data.head()"
   ]
  },
  {
   "cell_type": "code",
   "execution_count": 9,
   "metadata": {},
   "outputs": [],
   "source": [
    "from sklearn.feature_extraction.text import CountVectorizer\n",
    "from collections import Counter\n",
    "from matplotlib import pyplot as plt\n",
    "import seaborn as sns"
   ]
  },
  {
   "cell_type": "code",
   "execution_count": 10,
   "metadata": {},
   "outputs": [],
   "source": [
    "X=data[\"Text\"]\n",
    "y=data[\"Label\"]"
   ]
  },
  {
   "cell_type": "code",
   "execution_count": 11,
   "metadata": {},
   "outputs": [],
   "source": [
    "d={}\n",
    "for i in range(0, y.unique().shape[0]):\n",
    "    d[y.unique()[i]]=i"
   ]
  },
  {
   "cell_type": "code",
   "execution_count": 12,
   "metadata": {},
   "outputs": [
    {
     "data": {
      "text/plain": [
       "{'Amazon - diverse': 0,\n",
       " 'Angebote-Werbung-Newsletter': 1,\n",
       " 'Bestellbest┬Дaetigungen': 2,\n",
       " 'Amazon': 3,\n",
       " 'Kino': 4,\n",
       " 'Mietwagen': 5,\n",
       " 'Rechnungen': 6,\n",
       " 'Reisen': 7,\n",
       " 'Retoure': 8,\n",
       " 'Veranstaltungen': 9,\n",
       " 'Versandbestae┬Дtigung': 10,\n",
       " 'DHL': 11,\n",
       " 'DPD': 12,\n",
       " 'GLS': 13,\n",
       " 'UPS': 14,\n",
       " 'Zahlungseingang': 15}"
      ]
     },
     "execution_count": 12,
     "metadata": {},
     "output_type": "execute_result"
    }
   ],
   "source": [
    "d"
   ]
  },
  {
   "cell_type": "code",
   "execution_count": 13,
   "metadata": {},
   "outputs": [],
   "source": [
    "y1=y.map(d)\n",
    "data[\"Label_coded\"]=y1\n"
   ]
  },
  {
   "cell_type": "code",
   "execution_count": 16,
   "metadata": {},
   "outputs": [
    {
     "data": {
      "image/png": "[encoded data removed]",
      "text/plain": [
       "<Figure size 720x432 with 1 Axes>"
      ]
     },
     "metadata": {},
     "output_type": "display_data"
    }
   ],
   "source": [
    "plt.figure(figsize=(10,6))\n",
    "plt.title(\"Number of files by folder\", fontsize=18)\n",
    "plt.rcParams['axes.labelsize']=\"x-large\"\n",
    "sns.countplot(x=\"Label_coded\",  data=data)\n",
    "plt.xlabel(\"Folders (coded)\", fontsize=15)\n",
    "plt.ylabel(\"Number of files\", fontsize=15)\n",
    "plt.tick_params(top='off', bottom='off', left='on', right='off', labelleft='on', labelbottom='on')\n",
    "\n",
    "plt.gca().spines['top'].set_visible(False)\n",
    "plt.gca().spines['right'].set_visible(False)\n",
    "plt.gca().spines['bottom'].set_color(\"gray\")\n"
   ]
  },
  {
   "cell_type": "code",
   "execution_count": 224,
   "metadata": {},
   "outputs": [
    {
     "data": {
      "text/plain": [
       "dict_items([('Amazon - diverse', 41), ('Angebote-Werbung-Newsletter', 305), ('Bestellbest┬Дaetigungen', 190), ('Amazon', 138), ('Kino', 9), ('Mietwagen', 5), ('Rechnungen', 128), ('Reisen', 73), ('Retoure', 6), ('Veranstaltungen', 20), ('Versandbestae┬Дtigung', 203), ('DHL', 69), ('DPD', 15), ('GLS', 25), ('UPS', 135), ('Zahlungseingang', 28)])"
      ]
     },
     "execution_count": 224,
     "metadata": {},
     "output_type": "execute_result"
    }
   ],
   "source": [
    "Counter(y).items()"
   ]
  },
  {
   "cell_type": "code",
   "execution_count": 17,
   "metadata": {},
   "outputs": [],
   "source": [
    "from sklearn.model_selection import StratifiedShuffleSplit, StratifiedKFold, cross_val_score, train_test_split\n",
    "from sklearn import metrics\n"
   ]
  },
  {
   "cell_type": "code",
   "execution_count": 17,
   "metadata": {},
   "outputs": [],
   "source": [
    "\"\"\"Alir3z4/python-stop-words  https://github.com/Alir3z4/python-stop-words\"\"\"\n",
    "#from stop_words import get_stop_words\n",
    "#from stop_words import safe_get_stop_words\n",
    "#stop_words = safe_get_stop_words('unsupported language')\n",
    "#stop_words = get_stop_words('german')\n",
    "#print(stop_words[:10])"
   ]
  },
  {
   "cell_type": "code",
   "execution_count": 18,
   "metadata": {},
   "outputs": [
    {
     "name": "stdout",
     "output_type": "stream",
     "text": [
      "['arabic', 'azerbaijani', 'danish', 'dutch', 'english', 'finnish', 'french', 'german', 'greek', 'hungarian', 'indonesian', 'italian', 'kazakh', 'nepali', 'norwegian', 'portuguese', 'romanian', 'russian', 'spanish', 'swedish', 'turkish']\n"
     ]
    }
   ],
   "source": [
    "from nltk.corpus import stopwords\n",
    "print(stopwords.fileids())"
   ]
  },
  {
   "cell_type": "code",
   "execution_count": 20,
   "metadata": {},
   "outputs": [],
   "source": [
    "from nltk.stem.snowball import SnowballStemmer\n",
    "from nltk import tokenize, FreqDist\n",
    "stemmer = SnowballStemmer(\"german\")\n",
    "X_processed=[]\n",
    "for row in X:\n",
    "    words=tokenize.word_tokenize(row)\n",
    "    for i in range(0, len(words)):\n",
    "        words[i]=stemmer.stem(words[i])\n",
    "    X_processed.append(\" \".join(words))"
   ]
  },
  {
   "cell_type": "code",
   "execution_count": 21,
   "metadata": {},
   "outputs": [],
   "source": [
    "stop_words=stopwords.words('german')"
   ]
  },
  {
   "cell_type": "code",
   "execution_count": 22,
   "metadata": {},
   "outputs": [],
   "source": [
    "vectorizer=CountVectorizer(stop_words=stop_words)"
   ]
  },
  {
   "cell_type": "code",
   "execution_count": 23,
   "metadata": {},
   "outputs": [],
   "source": [
    "X_vect=vectorizer.fit_transform(i for i in X_processed)"
   ]
  },
  {
   "cell_type": "code",
   "execution_count": 24,
   "metadata": {},
   "outputs": [
    {
     "data": {
      "text/plain": [
       "(1390, 43504)"
      ]
     },
     "execution_count": 24,
     "metadata": {},
     "output_type": "execute_result"
    }
   ],
   "source": [
    "X_vect.shape"
   ]
  },
  {
   "cell_type": "code",
   "execution_count": 87,
   "metadata": {},
   "outputs": [
    {
     "data": {
      "text/plain": [
       "(1390, 49629)"
      ]
     },
     "execution_count": 87,
     "metadata": {},
     "output_type": "execute_result"
    }
   ],
   "source": [
    "vect1=CountVectorizer()\n",
    "X_v=vect1.fit_transform(X)\n",
    "X_v.shape"
   ]
  },
  {
   "cell_type": "code",
   "execution_count": null,
   "metadata": {},
   "outputs": [],
   "source": []
  },
  {
   "cell_type": "code",
   "execution_count": 25,
   "metadata": {},
   "outputs": [],
   "source": [
    "\n",
    "words=tokenize.word_tokenize(X[5])"
   ]
  },
  {
   "cell_type": "code",
   "execution_count": 26,
   "metadata": {},
   "outputs": [
    {
     "data": {
      "text/plain": [
       "703"
      ]
     },
     "execution_count": 26,
     "metadata": {},
     "output_type": "execute_result"
    }
   ],
   "source": [
    "len(words)"
   ]
  },
  {
   "cell_type": "code",
   "execution_count": 27,
   "metadata": {},
   "outputs": [],
   "source": [
    "freq1=FreqDist(words)"
   ]
  },
  {
   "cell_type": "code",
   "execution_count": 28,
   "metadata": {},
   "outputs": [
    {
     "data": {
      "text/plain": [
       "241"
      ]
     },
     "execution_count": 28,
     "metadata": {},
     "output_type": "execute_result"
    }
   ],
   "source": [
    "len(freq1.keys())"
   ]
  },
  {
   "cell_type": "code",
   "execution_count": 29,
   "metadata": {},
   "outputs": [],
   "source": [
    "words_stemmed=[stemmer.stem(i) for i in words]\n"
   ]
  },
  {
   "cell_type": "code",
   "execution_count": 30,
   "metadata": {},
   "outputs": [
    {
     "data": {
      "text/plain": [
       "231"
      ]
     },
     "execution_count": 30,
     "metadata": {},
     "output_type": "execute_result"
    }
   ],
   "source": [
    "freq2=FreqDist(words_stemmed)\n",
    "len(freq2.keys())"
   ]
  },
  {
   "cell_type": "code",
   "execution_count": 31,
   "metadata": {},
   "outputs": [
    {
     "data": {
      "text/plain": [
       "202"
      ]
     },
     "execution_count": 31,
     "metadata": {},
     "output_type": "execute_result"
    }
   ],
   "source": [
    "words_clean=[]\n",
    "for w in words_stemmed:\n",
    "    if not w in stop_words:\n",
    "        words_clean.append(w)\n",
    "freq3=FreqDist(words_clean)\n",
    "len(freq3)"
   ]
  },
  {
   "cell_type": "code",
   "execution_count": 32,
   "metadata": {},
   "outputs": [
    {
     "data": {
      "text/plain": [
       "FreqDist({'›': 30, '.': 26, ':': 26, ',': 25, '&': 23, 'https': 14, 'fur': 12, 'babybett': 12, 'bitt': 8, 'all': 7, ...})"
      ]
     },
     "execution_count": 32,
     "metadata": {},
     "output_type": "execute_result"
    }
   ],
   "source": [
    "freq3"
   ]
  },
  {
   "cell_type": "code",
   "execution_count": 33,
   "metadata": {},
   "outputs": [
    {
     "data": {
      "text/plain": [
       "142"
      ]
     },
     "execution_count": 33,
     "metadata": {},
     "output_type": "execute_result"
    }
   ],
   "source": [
    "words_nopunkt = [w for w in words_clean if w.isalpha()]\n",
    "freq4=FreqDist(words_nopunkt)\n",
    "len(freq4)"
   ]
  },
  {
   "cell_type": "code",
   "execution_count": 34,
   "metadata": {},
   "outputs": [
    {
     "data": {
      "text/plain": [
       "FreqDist({'https': 14, 'fur': 12, 'babybett': 12, 'bitt': 8, 'all': 7, 'konn': 6, 'preis': 6, 'babybettausstatt': 5, 'klick': 4, 'nachricht': 4, ...})"
      ]
     },
     "execution_count": 34,
     "metadata": {},
     "output_type": "execute_result"
    }
   ],
   "source": [
    "freq4"
   ]
  },
  {
   "cell_type": "code",
   "execution_count": null,
   "metadata": {},
   "outputs": [],
   "source": []
  },
  {
   "cell_type": "code",
   "execution_count": 35,
   "metadata": {},
   "outputs": [],
   "source": [
    "import random\n",
    "random.seed(42)\n",
    "X_train, X_test, y_train, y_test=train_test_split(X_vect, y1, test_size=0.2, stratify=y1, shuffle=True, random_state=12)"
   ]
  },
  {
   "cell_type": "code",
   "execution_count": 36,
   "metadata": {},
   "outputs": [],
   "source": [
    "from sklearn.linear_model import LogisticRegression\n",
    "from sklearn import metrics"
   ]
  },
  {
   "cell_type": "code",
   "execution_count": 37,
   "metadata": {},
   "outputs": [
    {
     "data": {
      "text/plain": [
       "LogisticRegression(C=1.0, class_weight=None, dual=False, fit_intercept=True,\n",
       "          intercept_scaling=1, max_iter=100, multi_class='ovr', n_jobs=1,\n",
       "          penalty='l2', random_state=12, solver='liblinear', tol=0.0001,\n",
       "          verbose=0, warm_start=False)"
      ]
     },
     "execution_count": 37,
     "metadata": {},
     "output_type": "execute_result"
    }
   ],
   "source": [
    "\n",
    "lr=LogisticRegression(random_state=12)\n",
    "lr.fit(X_train, y_train)"
   ]
  },
  {
   "cell_type": "code",
   "execution_count": 38,
   "metadata": {},
   "outputs": [],
   "source": [
    "f1_scorer=metrics.make_scorer(metrics.f1_score, average=\"weighted\" )\n",
    "cvs=cross_val_score(lr, X_train, y_train, scoring=f1_scorer, \n",
    "                    cv=StratifiedShuffleSplit(n_splits=5, test_size=0.2))"
   ]
  },
  {
   "cell_type": "code",
   "execution_count": 39,
   "metadata": {},
   "outputs": [
    {
     "data": {
      "text/plain": [
       "0.9464018432787284"
      ]
     },
     "execution_count": 39,
     "metadata": {},
     "output_type": "execute_result"
    }
   ],
   "source": [
    "cvs.mean()"
   ]
  },
  {
   "cell_type": "code",
   "execution_count": 40,
   "metadata": {},
   "outputs": [
    {
     "data": {
      "text/plain": [
       "0.9820143884892086"
      ]
     },
     "execution_count": 40,
     "metadata": {},
     "output_type": "execute_result"
    }
   ],
   "source": [
    "metrics.accuracy_score(y_test, lr.predict(X_test))"
   ]
  },
  {
   "cell_type": "code",
   "execution_count": 41,
   "metadata": {},
   "outputs": [],
   "source": [
    "from sklearn.metrics import confusion_matrix\n",
    "import itertools"
   ]
  },
  {
   "cell_type": "code",
   "execution_count": 95,
   "metadata": {},
   "outputs": [],
   "source": [
    "\n",
    "cm1=confusion_matrix(lr.predict(X_test), y_test)"
   ]
  },
  {
   "cell_type": "code",
   "execution_count": 118,
   "metadata": {},
   "outputs": [],
   "source": [
    "def plot_confusion_matrix(cm1, classes,\n",
    "                          normalize=False,\n",
    "                          title='Confusion matrix',\n",
    "                          cmap=plt.cm.Blues):\n",
    "    \"\"\"\n",
    "    This function prints and plots the confusion matrix.\n",
    "    Normalization can be applied by setting `normalize=True`.\n",
    "    \"\"\"\n",
    "    if normalize:\n",
    "        cm1 = cm1.astype('float') / cm1.sum(axis=1)[:, np.newaxis]\n",
    "        print(\"Normalized confusion matrix\")\n",
    "    else:\n",
    "        print('Confusion matrix, without normalization')\n",
    "\n",
    "    #print(cm1)\n",
    "\n",
    "    plt.imshow(cm1, interpolation='nearest', cmap=cmap)\n",
    "    plt.title(title)\n",
    "    plt.colorbar(aspect=5)\n",
    "    tick_marks = np.arange(len(classes))\n",
    "    plt.xticks(tick_marks, classes, rotation=45)\n",
    "    plt.yticks(tick_marks, classes)\n",
    "\n",
    "    fmt = '.2f' if normalize else 'd'\n",
    "    thresh = cm1.max() / 2.\n",
    "    for i, j in itertools.product(range(cm1.shape[0]), range(cm1.shape[1])):\n",
    "        plt.text(j, i, format(cm1[i, j], fmt),\n",
    "                 horizontalalignment=\"center\",\n",
    "                 color=\"white\" if cm1[i, j] > thresh else \"black\")\n",
    "\n",
    "    plt.tight_layout()\n",
    "    plt.ylabel('True label')\n",
    "    plt.xlabel('Predicted label')\n",
    "\n"
   ]
  },
  {
   "cell_type": "code",
   "execution_count": 126,
   "metadata": {},
   "outputs": [
    {
     "name": "stdout",
     "output_type": "stream",
     "text": [
      "Confusion matrix, without normalization\n"
     ]
    },
    {
     "data": {
      "image/png": "[encoded data removed]",
      "text/plain": [
       "<Figure size 720x720 with 2 Axes>"
      ]
     },
     "metadata": {},
     "output_type": "display_data"
    }
   ],
   "source": [
    "np.set_printoptions(precision=2)\n",
    "plt.figure(figsize=(10,10))\n",
    "plot_confusion_matrix(cm1, classes=d.values(), normalize=False,\n",
    "                      title='Not normalized confusion matrix')\n",
    "\n",
    "plt.show()"
   ]
  },
  {
   "cell_type": "code",
   "execution_count": 125,
   "metadata": {},
   "outputs": [
    {
     "name": "stdout",
     "output_type": "stream",
     "text": [
      "Normalized confusion matrix\n"
     ]
    },
    {
     "data": {
      "image/png": "[encoded data removed]",
      "text/plain": [
       "<Figure size 720x720 with 2 Axes>"
      ]
     },
     "metadata": {},
     "output_type": "display_data"
    }
   ],
   "source": [
    "np.set_printoptions(precision=2)\n",
    "plt.figure(figsize=(10,10))\n",
    "plot_confusion_matrix(cm1, classes=d.values(), normalize=True,\n",
    "                      title='Normalized confusion matrix')\n",
    "\n",
    "plt.show()"
   ]
  },
  {
   "cell_type": "code",
   "execution_count": 46,
   "metadata": {},
   "outputs": [],
   "source": [
    "from imblearn.over_sampling import SMOTE\n",
    "from sklearn.metrics import classification_report"
   ]
  },
  {
   "cell_type": "code",
   "execution_count": 47,
   "metadata": {},
   "outputs": [
    {
     "name": "stdout",
     "output_type": "stream",
     "text": [
      "             precision    recall  f1-score   support\n",
      "\n",
      "          0       1.00      1.00      1.00         8\n",
      "          1       1.00      1.00      1.00        61\n",
      "          2       0.92      1.00      0.96        35\n",
      "          3       1.00      1.00      1.00        27\n",
      "          4       1.00      1.00      1.00         2\n",
      "          5       1.00      1.00      1.00         1\n",
      "          6       1.00      0.96      0.98        26\n",
      "          7       1.00      1.00      1.00        15\n",
      "          8       1.00      1.00      1.00         1\n",
      "          9       1.00      1.00      1.00         4\n",
      "         10       0.98      0.91      0.94        44\n",
      "         11       1.00      1.00      1.00        14\n",
      "         12       1.00      1.00      1.00         3\n",
      "         13       1.00      1.00      1.00         5\n",
      "         14       1.00      1.00      1.00        27\n",
      "         15       0.83      1.00      0.91         5\n",
      "\n",
      "avg / total       0.98      0.98      0.98       278\n",
      "\n"
     ]
    }
   ],
   "source": [
    "print(classification_report(lr.predict(X_test), y_test))"
   ]
  },
  {
   "cell_type": "code",
   "execution_count": null,
   "metadata": {},
   "outputs": [],
   "source": []
  },
  {
   "cell_type": "code",
   "execution_count": 48,
   "metadata": {},
   "outputs": [],
   "source": [
    "sm=SMOTE(k_neighbors=3)\n",
    "X_train_res, y_train_res=sm.fit_sample(X_train, y_train)"
   ]
  },
  {
   "cell_type": "code",
   "execution_count": 49,
   "metadata": {},
   "outputs": [
    {
     "data": {
      "text/plain": [
       "LogisticRegression(C=1.0, class_weight=None, dual=False, fit_intercept=True,\n",
       "          intercept_scaling=1, max_iter=100, multi_class='ovr', n_jobs=1,\n",
       "          penalty='l2', random_state=12, solver='liblinear', tol=0.0001,\n",
       "          verbose=0, warm_start=False)"
      ]
     },
     "execution_count": 49,
     "metadata": {},
     "output_type": "execute_result"
    }
   ],
   "source": [
    "lr1=LogisticRegression(random_state=12)\n",
    "lr1.fit(X_train_res, y_train_res)"
   ]
  },
  {
   "cell_type": "code",
   "execution_count": 50,
   "metadata": {},
   "outputs": [
    {
     "data": {
      "text/plain": [
       "dict_items([(3, 244), (1, 244), (13, 244), (10, 244), (11, 244), (14, 244), (2, 244), (6, 244), (7, 244), (9, 244), (0, 244), (5, 244), (8, 244), (12, 244), (15, 244), (4, 244)])"
      ]
     },
     "execution_count": 50,
     "metadata": {},
     "output_type": "execute_result"
    }
   ],
   "source": [
    "Counter(y_train_res).items()"
   ]
  },
  {
   "cell_type": "code",
   "execution_count": 154,
   "metadata": {},
   "outputs": [
    {
     "name": "stdout",
     "output_type": "stream",
     "text": [
      "             precision    recall  f1-score   support\n",
      "\n",
      "          0      1.000     1.000     1.000         8\n",
      "          1      1.000     1.000     1.000        61\n",
      "          2      0.921     1.000     0.959        35\n",
      "          3      1.000     1.000     1.000        27\n",
      "          4      1.000     1.000     1.000         2\n",
      "          5      1.000     1.000     1.000         1\n",
      "          6      1.000     0.962     0.980        26\n",
      "          7      1.000     1.000     1.000        15\n",
      "          8      1.000     1.000     1.000         1\n",
      "          9      1.000     1.000     1.000         4\n",
      "         10      0.976     0.909     0.941        44\n",
      "         11      1.000     1.000     1.000        14\n",
      "         12      1.000     1.000     1.000         3\n",
      "         13      1.000     1.000     1.000         5\n",
      "         14      1.000     1.000     1.000        27\n",
      "         15      0.833     1.000     0.909         5\n",
      "\n",
      "avg / total      0.983     0.982     0.982       278\n",
      "\n"
     ]
    }
   ],
   "source": [
    "print(classification_report(lr1.predict(X_test), y_test, digits=3))"
   ]
  },
  {
   "cell_type": "code",
   "execution_count": 52,
   "metadata": {},
   "outputs": [
    {
     "data": {
      "text/plain": [
       "0.9820143884892086"
      ]
     },
     "execution_count": 52,
     "metadata": {},
     "output_type": "execute_result"
    }
   ],
   "source": [
    "\n",
    "metrics.accuracy_score(lr1.predict(X_test), np.array(y_test))"
   ]
  },
  {
   "cell_type": "code",
   "execution_count": 53,
   "metadata": {},
   "outputs": [],
   "source": [
    "cvs1=cross_val_score(lr1, X_train_res, y_train_res, scoring=f1_scorer, \n",
    "                    cv=StratifiedShuffleSplit(n_splits=5, test_size=0.2))"
   ]
  },
  {
   "cell_type": "code",
   "execution_count": 54,
   "metadata": {},
   "outputs": [
    {
     "data": {
      "text/plain": [
       "0.9915359544199512"
      ]
     },
     "execution_count": 54,
     "metadata": {},
     "output_type": "execute_result"
    }
   ],
   "source": [
    "cvs1.mean()"
   ]
  },
  {
   "cell_type": "code",
   "execution_count": 55,
   "metadata": {},
   "outputs": [],
   "source": [
    "from imblearn.over_sampling import ADASYN\n"
   ]
  },
  {
   "cell_type": "code",
   "execution_count": 56,
   "metadata": {},
   "outputs": [],
   "source": [
    "adasyn=ADASYN(n_neighbors=3)"
   ]
  },
  {
   "cell_type": "code",
   "execution_count": 57,
   "metadata": {},
   "outputs": [],
   "source": [
    "X_train_res_a, y_train_res_a=sm.fit_sample(X_train, y_train)\n",
    "lr2=LogisticRegression(random_state=12)\n",
    "lr2.fit(X_train_res_a, y_train_res_a)\n",
    "cvs2=cross_val_score(lr2, X_train_res_a, y_train_res_a, scoring=f1_scorer, \n",
    "                    cv=StratifiedShuffleSplit(n_splits=5, test_size=0.2))"
   ]
  },
  {
   "cell_type": "code",
   "execution_count": 58,
   "metadata": {},
   "outputs": [
    {
     "data": {
      "text/plain": [
       "0.9932778931415296"
      ]
     },
     "execution_count": 58,
     "metadata": {},
     "output_type": "execute_result"
    }
   ],
   "source": [
    "cvs2.mean()"
   ]
  },
  {
   "cell_type": "code",
   "execution_count": 59,
   "metadata": {},
   "outputs": [
    {
     "name": "stdout",
     "output_type": "stream",
     "text": [
      "             precision    recall  f1-score   support\n",
      "\n",
      "          0       1.00      1.00      1.00         8\n",
      "          1       1.00      1.00      1.00        61\n",
      "          2       0.92      1.00      0.96        35\n",
      "          3       1.00      1.00      1.00        27\n",
      "          4       1.00      1.00      1.00         2\n",
      "          5       1.00      1.00      1.00         1\n",
      "          6       1.00      0.96      0.98        26\n",
      "          7       1.00      1.00      1.00        15\n",
      "          8       1.00      1.00      1.00         1\n",
      "          9       1.00      1.00      1.00         4\n",
      "         10       0.98      0.91      0.94        44\n",
      "         11       1.00      1.00      1.00        14\n",
      "         12       1.00      1.00      1.00         3\n",
      "         13       1.00      1.00      1.00         5\n",
      "         14       1.00      1.00      1.00        27\n",
      "         15       0.83      1.00      0.91         5\n",
      "\n",
      "avg / total       0.98      0.98      0.98       278\n",
      "\n"
     ]
    }
   ],
   "source": [
    "print(classification_report(lr2.predict(X_test), y_test))"
   ]
  },
  {
   "cell_type": "code",
   "execution_count": 62,
   "metadata": {},
   "outputs": [],
   "source": [
    "from sklearn.decomposition import TruncatedSVD\n",
    "from sklearn.manifold import TSNE"
   ]
  },
  {
   "cell_type": "code",
   "execution_count": 64,
   "metadata": {},
   "outputs": [],
   "source": [
    "svd=TruncatedSVD(random_state=12)\n",
    "truncated_data=svd.fit_transform(X_vect)"
   ]
  },
  {
   "cell_type": "code",
   "execution_count": 76,
   "metadata": {},
   "outputs": [
    {
     "data": {
      "text/plain": [
       "<matplotlib.legend.Legend at 0x1e911311940>"
      ]
     },
     "execution_count": 76,
     "metadata": {},
     "output_type": "execute_result"
    },
    {
     "data": {
      "image/png": "[encoded data removed]",
      "text/plain": [
       "<Figure size 720x432 with 1 Axes>"
      ]
     },
     "metadata": {},
     "output_type": "display_data"
    }
   ],
   "source": [
    "\n",
    "import matplotlib.cm as cm\n",
    "y_=pd.DataFrame(y1)\n",
    "plt.figure(figsize=(10,6))\n",
    "colors = cm.rainbow(np.linspace(0, 1, len(set(y1))))\n",
    "for yy, c in zip(set(y1), colors):\n",
    "    plt.scatter(truncated_data[y_[y_.values==yy].index.values, 0], \n",
    "                truncated_data[y_[y_.values==yy].index.values, 1], c=c, alpha=0.8, label=str(yy))\n",
    "plt.legend()"
   ]
  },
  {
   "cell_type": "code",
   "execution_count": 79,
   "metadata": {},
   "outputs": [],
   "source": [
    "from sklearn.neighbors import KNeighborsClassifier\n",
    "from sklearn.ensemble import RandomForestClassifier\n",
    "from sklearn.svm import SVC\n",
    "from sklearn.naive_bayes import MultinomialNB"
   ]
  },
  {
   "cell_type": "code",
   "execution_count": 80,
   "metadata": {},
   "outputs": [],
   "source": [
    "classifiers={RandomForestClassifier(),\n",
    "             KNeighborsClassifier(),\n",
    "             SVC(),\n",
    "             LogisticRegression(),\n",
    "             MultinomialNB()\n",
    "             }\n"
   ]
  },
  {
   "cell_type": "code",
   "execution_count": 82,
   "metadata": {},
   "outputs": [
    {
     "data": {
      "text/html": [
       "<div>\n",
       "<style scoped>\n",
       "    .dataframe tbody tr th:only-of-type {\n",
       "        vertical-align: middle;\n",
       "    }\n",
       "\n",
       "    .dataframe tbody tr th {\n",
       "        vertical-align: top;\n",
       "    }\n",
       "\n",
       "    .dataframe thead th {\n",
       "        text-align: right;\n",
       "    }\n",
       "</style>\n",
       "<table border=\"1\" class=\"dataframe\">\n",
       "  <thead>\n",
       "    <tr style=\"text-align: right;\">\n",
       "      <th></th>\n",
       "      <th>Classifier</th>\n",
       "      <th>F1</th>\n",
       "    </tr>\n",
       "  </thead>\n",
       "  <tbody>\n",
       "    <tr>\n",
       "      <th>0</th>\n",
       "      <td>LogisticRegression</td>\n",
       "      <td>0.938808</td>\n",
       "    </tr>\n",
       "    <tr>\n",
       "      <th>1</th>\n",
       "      <td>RandomForestClassifier</td>\n",
       "      <td>0.885130</td>\n",
       "    </tr>\n",
       "    <tr>\n",
       "      <th>2</th>\n",
       "      <td>MultinomialNB</td>\n",
       "      <td>0.792195</td>\n",
       "    </tr>\n",
       "    <tr>\n",
       "      <th>3</th>\n",
       "      <td>KNeighborsClassifier</td>\n",
       "      <td>0.790914</td>\n",
       "    </tr>\n",
       "    <tr>\n",
       "      <th>4</th>\n",
       "      <td>SVC</td>\n",
       "      <td>0.598817</td>\n",
       "    </tr>\n",
       "  </tbody>\n",
       "</table>\n",
       "</div>"
      ],
      "text/plain": [
       "               Classifier        F1\n",
       "0      LogisticRegression  0.938808\n",
       "1  RandomForestClassifier  0.885130\n",
       "2           MultinomialNB  0.792195\n",
       "3    KNeighborsClassifier  0.790914\n",
       "4                     SVC  0.598817"
      ]
     },
     "execution_count": 82,
     "metadata": {},
     "output_type": "execute_result"
    }
   ],
   "source": [
    "random.seed(42)\n",
    "result=pd.DataFrame(columns=[\"Classifier\",  \"F1\"])\n",
    "for clf in classifiers:\n",
    "    cv=cross_val_score(clf, X_train, y_train, cv=StratifiedShuffleSplit(test_size=0.3), scoring=f1_scorer, n_jobs=-1)\n",
    "    entry=pd.DataFrame([[clf.__class__.__name__,  cv.mean()]],\n",
    "                           columns=[\"Classifier\",  \"F1\"])\n",
    "   \n",
    "    result=result.append(entry, ignore_index=True)\n",
    "result=result.sort_values(\"F1\", ascending=False).reset_index(drop=True)\n",
    "result"
   ]
  },
  {
   "cell_type": "code",
   "execution_count": 84,
   "metadata": {},
   "outputs": [
    {
     "data": {
      "text/html": [
       "<div>\n",
       "<style scoped>\n",
       "    .dataframe tbody tr th:only-of-type {\n",
       "        vertical-align: middle;\n",
       "    }\n",
       "\n",
       "    .dataframe tbody tr th {\n",
       "        vertical-align: top;\n",
       "    }\n",
       "\n",
       "    .dataframe thead th {\n",
       "        text-align: right;\n",
       "    }\n",
       "</style>\n",
       "<table border=\"1\" class=\"dataframe\">\n",
       "  <thead>\n",
       "    <tr style=\"text-align: right;\">\n",
       "      <th></th>\n",
       "      <th>Classifier</th>\n",
       "      <th>F1</th>\n",
       "    </tr>\n",
       "  </thead>\n",
       "  <tbody>\n",
       "    <tr>\n",
       "      <th>0</th>\n",
       "      <td>LogisticRegression</td>\n",
       "      <td>0.981982</td>\n",
       "    </tr>\n",
       "    <tr>\n",
       "      <th>1</th>\n",
       "      <td>RandomForestClassifier</td>\n",
       "      <td>0.927264</td>\n",
       "    </tr>\n",
       "    <tr>\n",
       "      <th>2</th>\n",
       "      <td>KNeighborsClassifier</td>\n",
       "      <td>0.899193</td>\n",
       "    </tr>\n",
       "    <tr>\n",
       "      <th>3</th>\n",
       "      <td>SVC</td>\n",
       "      <td>0.850679</td>\n",
       "    </tr>\n",
       "    <tr>\n",
       "      <th>4</th>\n",
       "      <td>MultinomialNB</td>\n",
       "      <td>0.815583</td>\n",
       "    </tr>\n",
       "  </tbody>\n",
       "</table>\n",
       "</div>"
      ],
      "text/plain": [
       "               Classifier        F1\n",
       "0      LogisticRegression  0.981982\n",
       "1  RandomForestClassifier  0.927264\n",
       "2    KNeighborsClassifier  0.899193\n",
       "3                     SVC  0.850679\n",
       "4           MultinomialNB  0.815583"
      ]
     },
     "execution_count": 84,
     "metadata": {},
     "output_type": "execute_result"
    }
   ],
   "source": [
    "result_SMOTE=pd.DataFrame(columns=[\"Classifier\",  \"F1\"])\n",
    "for clf in classifiers:\n",
    "    clf.fit(X_train_res, y_train_res)\n",
    "    entry=pd.DataFrame([[clf.__class__.__name__,  metrics.f1_score(y_test, clf.predict(X_test), average=\"weighted\")]],\n",
    "                           columns=[\"Classifier\",  \"F1\"])\n",
    "   \n",
    "    result_SMOTE=result_SMOTE.append(entry, ignore_index=True)\n",
    "result_SMOTE=result_SMOTE.sort_values(\"F1\", ascending=False).reset_index(drop=True)\n",
    "result_SMOTE"
   ]
  },
  {
   "cell_type": "code",
   "execution_count": 85,
   "metadata": {},
   "outputs": [
    {
     "data": {
      "text/html": [
       "<div>\n",
       "<style scoped>\n",
       "    .dataframe tbody tr th:only-of-type {\n",
       "        vertical-align: middle;\n",
       "    }\n",
       "\n",
       "    .dataframe tbody tr th {\n",
       "        vertical-align: top;\n",
       "    }\n",
       "\n",
       "    .dataframe thead th {\n",
       "        text-align: right;\n",
       "    }\n",
       "</style>\n",
       "<table border=\"1\" class=\"dataframe\">\n",
       "  <thead>\n",
       "    <tr style=\"text-align: right;\">\n",
       "      <th></th>\n",
       "      <th>Classifier</th>\n",
       "      <th>F1</th>\n",
       "    </tr>\n",
       "  </thead>\n",
       "  <tbody>\n",
       "    <tr>\n",
       "      <th>0</th>\n",
       "      <td>LogisticRegression</td>\n",
       "      <td>0.981982</td>\n",
       "    </tr>\n",
       "    <tr>\n",
       "      <th>1</th>\n",
       "      <td>RandomForestClassifier</td>\n",
       "      <td>0.929879</td>\n",
       "    </tr>\n",
       "    <tr>\n",
       "      <th>2</th>\n",
       "      <td>KNeighborsClassifier</td>\n",
       "      <td>0.899193</td>\n",
       "    </tr>\n",
       "    <tr>\n",
       "      <th>3</th>\n",
       "      <td>SVC</td>\n",
       "      <td>0.850679</td>\n",
       "    </tr>\n",
       "    <tr>\n",
       "      <th>4</th>\n",
       "      <td>MultinomialNB</td>\n",
       "      <td>0.815583</td>\n",
       "    </tr>\n",
       "  </tbody>\n",
       "</table>\n",
       "</div>"
      ],
      "text/plain": [
       "               Classifier        F1\n",
       "0      LogisticRegression  0.981982\n",
       "1  RandomForestClassifier  0.929879\n",
       "2    KNeighborsClassifier  0.899193\n",
       "3                     SVC  0.850679\n",
       "4           MultinomialNB  0.815583"
      ]
     },
     "execution_count": 85,
     "metadata": {},
     "output_type": "execute_result"
    }
   ],
   "source": [
    "result_SMOTE=pd.DataFrame(columns=[\"Classifier\",  \"F1\"])\n",
    "for clf in classifiers:\n",
    "    clf.fit(X_train_res, y_train_res)\n",
    "    entry=pd.DataFrame([[clf.__class__.__name__,  metrics.f1_score(y_test, clf.predict(X_test), average=\"weighted\")]],\n",
    "                           columns=[\"Classifier\",  \"F1\"])\n",
    "   \n",
    "    result_SMOTE=result_SMOTE.append(entry, ignore_index=True)\n",
    "result_SMOTE=result_SMOTE.sort_values(\"F1\", ascending=False).reset_index(drop=True)\n",
    "result_SMOTE"
   ]
  },
  {
   "cell_type": "code",
   "execution_count": 93,
   "metadata": {},
   "outputs": [
    {
     "data": {
      "image/png": "[encoded data removed]",
      "text/plain": [
       "<Figure size 432x288 with 1 Axes>"
      ]
     },
     "metadata": {},
     "output_type": "display_data"
    }
   ],
   "source": [
    "sns.barplot(data=result_SMOTE, y=\"Classifier\", x=\"F1\", orient=\"h\" )\n",
    "plt.title(\"Classifiers performance based on F1-score\")\n",
    "plt.tick_params(top='off', bottom='off', left='on', right='off', labelleft='on', labelbottom='on')\n",
    "\n",
    "plt.gca().spines['top'].set_visible(False)\n",
    "plt.gca().spines['right'].set_visible(False)\n",
    "plt.gca().spines['bottom'].set_color(\"black\")"
   ]
  },
  {
   "cell_type": "code",
   "execution_count": null,
   "metadata": {},
   "outputs": [],
   "source": []
  },
  {
   "cell_type": "code",
   "execution_count": 86,
   "metadata": {},
   "outputs": [
    {
     "data": {
      "text/html": [
       "<div>\n",
       "<style scoped>\n",
       "    .dataframe tbody tr th:only-of-type {\n",
       "        vertical-align: middle;\n",
       "    }\n",
       "\n",
       "    .dataframe tbody tr th {\n",
       "        vertical-align: top;\n",
       "    }\n",
       "\n",
       "    .dataframe thead th {\n",
       "        text-align: right;\n",
       "    }\n",
       "</style>\n",
       "<table border=\"1\" class=\"dataframe\">\n",
       "  <thead>\n",
       "    <tr style=\"text-align: right;\">\n",
       "      <th></th>\n",
       "      <th>Classifier</th>\n",
       "      <th>F1</th>\n",
       "    </tr>\n",
       "  </thead>\n",
       "  <tbody>\n",
       "    <tr>\n",
       "      <th>0</th>\n",
       "      <td>LogisticRegression</td>\n",
       "      <td>0.981982</td>\n",
       "    </tr>\n",
       "    <tr>\n",
       "      <th>1</th>\n",
       "      <td>RandomForestClassifier</td>\n",
       "      <td>0.915374</td>\n",
       "    </tr>\n",
       "    <tr>\n",
       "      <th>2</th>\n",
       "      <td>KNeighborsClassifier</td>\n",
       "      <td>0.900283</td>\n",
       "    </tr>\n",
       "    <tr>\n",
       "      <th>3</th>\n",
       "      <td>SVC</td>\n",
       "      <td>0.864450</td>\n",
       "    </tr>\n",
       "    <tr>\n",
       "      <th>4</th>\n",
       "      <td>MultinomialNB</td>\n",
       "      <td>0.816827</td>\n",
       "    </tr>\n",
       "  </tbody>\n",
       "</table>\n",
       "</div>"
      ],
      "text/plain": [
       "               Classifier        F1\n",
       "0      LogisticRegression  0.981982\n",
       "1  RandomForestClassifier  0.915374\n",
       "2    KNeighborsClassifier  0.900283\n",
       "3                     SVC  0.864450\n",
       "4           MultinomialNB  0.816827"
      ]
     },
     "execution_count": 86,
     "metadata": {},
     "output_type": "execute_result"
    }
   ],
   "source": [
    "result_ADASYN=pd.DataFrame(columns=[\"Classifier\",  \"F1\"])\n",
    "for clf in classifiers:\n",
    "    clf.fit(X_train_res_a, y_train_res_a)\n",
    "    entry=pd.DataFrame([[clf.__class__.__name__,  metrics.f1_score(y_test, clf.predict(X_test), average=\"weighted\")]],\n",
    "                           columns=[\"Classifier\",  \"F1\"])\n",
    "   \n",
    "    result_ADASYN=result_ADASYN.append(entry, ignore_index=True)\n",
    "result_ADASYN=result_ADASYN.sort_values(\"F1\", ascending=False).reset_index(drop=True)\n",
    "result_ADASYN"
   ]
  },
  {
   "cell_type": "code",
   "execution_count": 127,
   "metadata": {},
   "outputs": [
    {
     "data": {
      "text/plain": [
       "pandas.core.series.Series"
      ]
     },
     "execution_count": 127,
     "metadata": {},
     "output_type": "execute_result"
    }
   ],
   "source": [
    "type(y_test)"
   ]
  },
  {
   "cell_type": "code",
   "execution_count": 182,
   "metadata": {},
   "outputs": [
    {
     "name": "stdout",
     "output_type": "stream",
     "text": [
      "Email number 534, correct 2, predicted 10, number in X 33\n",
      "Email number 535, correct 2, predicted 10, number in X 86\n",
      "Email number 527, correct 2, predicted 10, number in X 176\n",
      "Email number 1101, correct 10, predicted 6, number in X 255\n",
      "Email number 1385, correct 15, predicted 10, number in X 269\n"
     ]
    }
   ],
   "source": [
    "for i in range(0, len(y_test1)):\n",
    "    if y_test1.loc[i][1]!=lr1.predict(X_test[i][:])[0]:\n",
    "        print(\"Email number {}, correct {}, predicted {}, number in X {}\".format(y_test1.loc[i][0], y_test1.loc[i][1],\n",
    "                                                                 lr1.predict(X_test[i][:])[0] , i) )"
   ]
  },
  {
   "cell_type": "code",
   "execution_count": 188,
   "metadata": {},
   "outputs": [
    {
     "data": {
      "text/plain": [
       "'zooprofi.de <shop@zooprofi.de>\\n\\nzooprofi.de - buchhaltung au89582\\n\\nzooprofi.de - buchhaltung au89582\\n\\n\\n\\n\\n\\n\\n\\n\\n\\n\\n\\n\\n\\n\\n\\n\\n\\n\\n\\n\\n\\n\\n\\n\\n\\n\\n\\n\\n\\nau89582\\n\\n\\n\\nsehr geehrter kunde,\\n\\n\\n\\nder status ihrer bestellung wurde ge&auml;ndert.\\n\\n\\n\\n\\n\\nneuer status: bezahlt\\n\\n\\n\\n\\n\\n\\n\\n\\n\\n\\n\\n\\n\\n\\n\\n\\n\\n\\n\\n\\n\\nhallo vorname nachname\\n\\nihr geld ist eingegangen und gebucht worden. \\n\\ndie ware wird für den versand vorbereitet und\\n\\nschnellstmöglich versendet.\\n\\nsie erhalten eine weitere mitteilung, wenn die\\n\\nware versendet worden ist.\\n\\n\\n\\nmfg\\n\\nbringfried szelag\\n\\nteam zooprofi\\n\\n\\n\\n\\n\\nbei fragen zu ihrer bestellung antworten sie bitte\\n\\nauf diese email.\\n\\n\\n\\nau89582\\n\\n\\n\\n\\n\\n\\n\\n\\n\\n\\n\\n\\n\\n\\n\\n\\n\\n\\n\\n\\n\\n\\n\\n\\t\\n\\n\\n\\n\\tsehr geehrter kunde, \\n\\n\\n\\n      \\n\\n\\n\\n      der status ihrer bestellung wurde geändert.\\n\\n \\n\\n      \\n\\n\\n\\nneuer status: \\n\\nbezahlt\\n\\n\\n\\n\\n\\n\\n\\n\\n\\nau89582\\n\\n\\n\\n\\n\\n\\n\\n\\n\\n\\n\\n\\n\\n\\n\\n\\n\\n\\n\\n\\n\\n\\n\\n\\n\\n\\n\\nhallo vorname nachname\\n\\n\\n\\nihr geld ist eingegangen und gebucht worden. \\n\\n\\n\\ndie ware wird für den versand vorbereitet und schnellstmöglich versendet.\\n\\n\\n\\nsie erhalten eine weitere mitteilung, wenn die ware versendet worden ist.\\n\\n\\n\\n\\n\\n\\n\\nmfg\\n\\n\\n\\nbringfried szelag\\n\\n\\n\\nteam zooprofi\\n\\n\\n\\n\\n\\n\\n\\n\\n\\n\\n\\n\\n\\nbei fragen zu ihrer bestellung antworten sie bitte auf diese email. \\n\\n\\n\\n\\n\\n\\n\\n\\n'"
      ]
     },
     "execution_count": 188,
     "metadata": {},
     "output_type": "execute_result"
    }
   ],
   "source": [
    " data.iloc[1385][0]\n"
   ]
  },
  {
   "cell_type": "code",
   "execution_count": 179,
   "metadata": {},
   "outputs": [
    {
     "data": {
      "text/plain": [
       "2"
      ]
     },
     "execution_count": 179,
     "metadata": {},
     "output_type": "execute_result"
    }
   ],
   "source": [
    "data.iloc[534][2]"
   ]
  },
  {
   "cell_type": "code",
   "execution_count": 172,
   "metadata": {},
   "outputs": [
    {
     "data": {
      "text/html": [
       "<div>\n",
       "<style scoped>\n",
       "    .dataframe tbody tr th:only-of-type {\n",
       "        vertical-align: middle;\n",
       "    }\n",
       "\n",
       "    .dataframe tbody tr th {\n",
       "        vertical-align: top;\n",
       "    }\n",
       "\n",
       "    .dataframe thead th {\n",
       "        text-align: right;\n",
       "    }\n",
       "</style>\n",
       "<table border=\"1\" class=\"dataframe\">\n",
       "  <thead>\n",
       "    <tr style=\"text-align: right;\">\n",
       "      <th></th>\n",
       "      <th>index</th>\n",
       "      <th>Label</th>\n",
       "    </tr>\n",
       "  </thead>\n",
       "  <tbody>\n",
       "    <tr>\n",
       "      <th>0</th>\n",
       "      <td>827</td>\n",
       "      <td>7</td>\n",
       "    </tr>\n",
       "    <tr>\n",
       "      <th>1</th>\n",
       "      <td>1219</td>\n",
       "      <td>13</td>\n",
       "    </tr>\n",
       "    <tr>\n",
       "      <th>2</th>\n",
       "      <td>453</td>\n",
       "      <td>2</td>\n",
       "    </tr>\n",
       "    <tr>\n",
       "      <th>3</th>\n",
       "      <td>194</td>\n",
       "      <td>1</td>\n",
       "    </tr>\n",
       "    <tr>\n",
       "      <th>4</th>\n",
       "      <td>5</td>\n",
       "      <td>0</td>\n",
       "    </tr>\n",
       "  </tbody>\n",
       "</table>\n",
       "</div>"
      ],
      "text/plain": [
       "   index  Label\n",
       "0    827      7\n",
       "1   1219     13\n",
       "2    453      2\n",
       "3    194      1\n",
       "4      5      0"
      ]
     },
     "execution_count": 172,
     "metadata": {},
     "output_type": "execute_result"
    }
   ],
   "source": [
    "y_test1.head()"
   ]
  },
  {
   "cell_type": "code",
   "execution_count": 187,
   "metadata": {},
   "outputs": [
    {
     "name": "stdout",
     "output_type": "stream",
     "text": [
      "  (0, 13118)\t2\n",
      "  (0, 13517)\t5\n",
      "  (0, 13761)\t1\n",
      "  (0, 15291)\t4\n",
      "  (0, 15513)\t2\n",
      "  (0, 15683)\t2\n",
      "  (0, 16220)\t2\n",
      "  (0, 16324)\t2\n",
      "  (0, 19344)\t2\n",
      "  (0, 19692)\t2\n",
      "  (0, 20076)\t2\n",
      "  (0, 21544)\t2\n",
      "  (0, 21881)\t2\n",
      "  (0, 22105)\t1\n",
      "  (0, 22113)\t1\n",
      "  (0, 22155)\t2\n",
      "  (0, 22190)\t2\n",
      "  (0, 22344)\t2\n",
      "  (0, 23637)\t2\n",
      "  (0, 27220)\t2\n",
      "  (0, 29291)\t2\n",
      "  (0, 29527)\t2\n",
      "  (0, 30225)\t2\n",
      "  (0, 30424)\t1\n",
      "  (0, 30575)\t2\n",
      "  (0, 35430)\t2\n",
      "  (0, 36035)\t1\n",
      "  (0, 37034)\t4\n",
      "  (0, 37692)\t2\n",
      "  (0, 37997)\t2\n",
      "  (0, 40338)\t2\n",
      "  (0, 40450)\t4\n",
      "  (0, 40948)\t2\n",
      "  (0, 41036)\t2\n",
      "  (0, 41606)\t2\n",
      "  (0, 42178)\t4\n",
      "  (0, 42272)\t2\n",
      "  (0, 43086)\t6\n"
     ]
    }
   ],
   "source": [
    "print(X_test[269][:])"
   ]
  },
  {
   "cell_type": "code",
   "execution_count": 189,
   "metadata": {},
   "outputs": [
    {
     "data": {
      "text/plain": [
       "'zooprofi'"
      ]
     },
     "execution_count": 189,
     "metadata": {},
     "output_type": "execute_result"
    }
   ],
   "source": [
    "vectorizer.get_feature_names()[43086]"
   ]
  },
  {
   "cell_type": "code",
   "execution_count": 192,
   "metadata": {},
   "outputs": [
    {
     "data": {
      "text/plain": [
       "array([-3.16e-01,  6.57e-03,  1.45e-02, ..., -2.11e-04,  0.00e+00,\n",
       "        0.00e+00])"
      ]
     },
     "execution_count": 192,
     "metadata": {},
     "output_type": "execute_result"
    }
   ],
   "source": [
    "probabilities_10=lr1.coef_[10,:]"
   ]
  },
  {
   "cell_type": "code",
   "execution_count": 210,
   "metadata": {},
   "outputs": [
    {
     "data": {
      "text/plain": [
       "(1, 43504)"
      ]
     },
     "execution_count": 210,
     "metadata": {},
     "output_type": "execute_result"
    }
   ],
   "source": [
    "m=pd.DataFrame(lr1.coef_[10,:])\n",
    "m.T.shape"
   ]
  },
  {
   "cell_type": "code",
   "execution_count": 217,
   "metadata": {},
   "outputs": [],
   "source": [
    "probabilities_10=pd.DataFrame(lr1.coef_[10,:], columns=[\"Coeffs\"])"
   ]
  },
  {
   "cell_type": "code",
   "execution_count": 213,
   "metadata": {},
   "outputs": [
    {
     "data": {
      "text/plain": [
       "(43504, 1)"
      ]
     },
     "execution_count": 213,
     "metadata": {},
     "output_type": "execute_result"
    }
   ],
   "source": [
    "probabilities_10.shape"
   ]
  },
  {
   "cell_type": "code",
   "execution_count": 221,
   "metadata": {},
   "outputs": [
    {
     "data": {
      "text/html": [
       "<div>\n",
       "<style scoped>\n",
       "    .dataframe tbody tr th:only-of-type {\n",
       "        vertical-align: middle;\n",
       "    }\n",
       "\n",
       "    .dataframe tbody tr th {\n",
       "        vertical-align: top;\n",
       "    }\n",
       "\n",
       "    .dataframe thead th {\n",
       "        text-align: right;\n",
       "    }\n",
       "</style>\n",
       "<table border=\"1\" class=\"dataframe\">\n",
       "  <thead>\n",
       "    <tr style=\"text-align: right;\">\n",
       "      <th></th>\n",
       "      <th>Coeffs</th>\n",
       "    </tr>\n",
       "  </thead>\n",
       "  <tbody>\n",
       "    <tr>\n",
       "      <th>33</th>\n",
       "      <td>2.432989e-02</td>\n",
       "    </tr>\n",
       "    <tr>\n",
       "      <th>24</th>\n",
       "      <td>2.192261e-02</td>\n",
       "    </tr>\n",
       "    <tr>\n",
       "      <th>2</th>\n",
       "      <td>1.450575e-02</td>\n",
       "    </tr>\n",
       "    <tr>\n",
       "      <th>21</th>\n",
       "      <td>1.406535e-02</td>\n",
       "    </tr>\n",
       "    <tr>\n",
       "      <th>39</th>\n",
       "      <td>1.252233e-02</td>\n",
       "    </tr>\n",
       "    <tr>\n",
       "      <th>32</th>\n",
       "      <td>1.019385e-02</td>\n",
       "    </tr>\n",
       "    <tr>\n",
       "      <th>44</th>\n",
       "      <td>8.109963e-03</td>\n",
       "    </tr>\n",
       "    <tr>\n",
       "      <th>1</th>\n",
       "      <td>6.573301e-03</td>\n",
       "    </tr>\n",
       "    <tr>\n",
       "      <th>48</th>\n",
       "      <td>5.096926e-03</td>\n",
       "    </tr>\n",
       "    <tr>\n",
       "      <th>26</th>\n",
       "      <td>5.013824e-03</td>\n",
       "    </tr>\n",
       "    <tr>\n",
       "      <th>49</th>\n",
       "      <td>1.187569e-03</td>\n",
       "    </tr>\n",
       "    <tr>\n",
       "      <th>30</th>\n",
       "      <td>7.715782e-06</td>\n",
       "    </tr>\n",
       "    <tr>\n",
       "      <th>31</th>\n",
       "      <td>1.586321e-06</td>\n",
       "    </tr>\n",
       "    <tr>\n",
       "      <th>18</th>\n",
       "      <td>9.146671e-08</td>\n",
       "    </tr>\n",
       "    <tr>\n",
       "      <th>45</th>\n",
       "      <td>0.000000e+00</td>\n",
       "    </tr>\n",
       "    <tr>\n",
       "      <th>23</th>\n",
       "      <td>0.000000e+00</td>\n",
       "    </tr>\n",
       "    <tr>\n",
       "      <th>3</th>\n",
       "      <td>-1.043589e-08</td>\n",
       "    </tr>\n",
       "    <tr>\n",
       "      <th>37</th>\n",
       "      <td>-5.168764e-07</td>\n",
       "    </tr>\n",
       "    <tr>\n",
       "      <th>15</th>\n",
       "      <td>-6.481220e-07</td>\n",
       "    </tr>\n",
       "    <tr>\n",
       "      <th>27</th>\n",
       "      <td>-1.009365e-06</td>\n",
       "    </tr>\n",
       "    <tr>\n",
       "      <th>22</th>\n",
       "      <td>-1.009365e-06</td>\n",
       "    </tr>\n",
       "    <tr>\n",
       "      <th>29</th>\n",
       "      <td>-2.685971e-06</td>\n",
       "    </tr>\n",
       "    <tr>\n",
       "      <th>43</th>\n",
       "      <td>-3.756689e-06</td>\n",
       "    </tr>\n",
       "    <tr>\n",
       "      <th>38</th>\n",
       "      <td>-3.936850e-06</td>\n",
       "    </tr>\n",
       "    <tr>\n",
       "      <th>7</th>\n",
       "      <td>-1.206027e-05</td>\n",
       "    </tr>\n",
       "    <tr>\n",
       "      <th>6</th>\n",
       "      <td>-1.807305e-05</td>\n",
       "    </tr>\n",
       "    <tr>\n",
       "      <th>25</th>\n",
       "      <td>-2.550948e-05</td>\n",
       "    </tr>\n",
       "    <tr>\n",
       "      <th>13</th>\n",
       "      <td>-6.734572e-05</td>\n",
       "    </tr>\n",
       "    <tr>\n",
       "      <th>14</th>\n",
       "      <td>-9.013456e-05</td>\n",
       "    </tr>\n",
       "    <tr>\n",
       "      <th>19</th>\n",
       "      <td>-1.249768e-04</td>\n",
       "    </tr>\n",
       "    <tr>\n",
       "      <th>4</th>\n",
       "      <td>-2.028726e-04</td>\n",
       "    </tr>\n",
       "    <tr>\n",
       "      <th>10</th>\n",
       "      <td>-2.366615e-04</td>\n",
       "    </tr>\n",
       "    <tr>\n",
       "      <th>42</th>\n",
       "      <td>-2.583273e-04</td>\n",
       "    </tr>\n",
       "    <tr>\n",
       "      <th>40</th>\n",
       "      <td>-2.592880e-04</td>\n",
       "    </tr>\n",
       "    <tr>\n",
       "      <th>9</th>\n",
       "      <td>-3.559899e-04</td>\n",
       "    </tr>\n",
       "    <tr>\n",
       "      <th>20</th>\n",
       "      <td>-3.749305e-04</td>\n",
       "    </tr>\n",
       "    <tr>\n",
       "      <th>8</th>\n",
       "      <td>-4.160015e-04</td>\n",
       "    </tr>\n",
       "    <tr>\n",
       "      <th>12</th>\n",
       "      <td>-4.300914e-04</td>\n",
       "    </tr>\n",
       "    <tr>\n",
       "      <th>17</th>\n",
       "      <td>-6.715560e-04</td>\n",
       "    </tr>\n",
       "    <tr>\n",
       "      <th>47</th>\n",
       "      <td>-1.001410e-03</td>\n",
       "    </tr>\n",
       "    <tr>\n",
       "      <th>36</th>\n",
       "      <td>-1.067841e-03</td>\n",
       "    </tr>\n",
       "    <tr>\n",
       "      <th>46</th>\n",
       "      <td>-1.228883e-03</td>\n",
       "    </tr>\n",
       "    <tr>\n",
       "      <th>41</th>\n",
       "      <td>-1.394428e-03</td>\n",
       "    </tr>\n",
       "    <tr>\n",
       "      <th>16</th>\n",
       "      <td>-5.175445e-03</td>\n",
       "    </tr>\n",
       "    <tr>\n",
       "      <th>11</th>\n",
       "      <td>-8.660861e-03</td>\n",
       "    </tr>\n",
       "    <tr>\n",
       "      <th>5</th>\n",
       "      <td>-1.078155e-02</td>\n",
       "    </tr>\n",
       "    <tr>\n",
       "      <th>34</th>\n",
       "      <td>-1.085479e-02</td>\n",
       "    </tr>\n",
       "    <tr>\n",
       "      <th>28</th>\n",
       "      <td>-1.110888e-02</td>\n",
       "    </tr>\n",
       "    <tr>\n",
       "      <th>35</th>\n",
       "      <td>-1.324693e-02</td>\n",
       "    </tr>\n",
       "    <tr>\n",
       "      <th>0</th>\n",
       "      <td>-3.164165e-01</td>\n",
       "    </tr>\n",
       "  </tbody>\n",
       "</table>\n",
       "</div>"
      ],
      "text/plain": [
       "          Coeffs\n",
       "33  2.432989e-02\n",
       "24  2.192261e-02\n",
       "2   1.450575e-02\n",
       "21  1.406535e-02\n",
       "39  1.252233e-02\n",
       "32  1.019385e-02\n",
       "44  8.109963e-03\n",
       "1   6.573301e-03\n",
       "48  5.096926e-03\n",
       "26  5.013824e-03\n",
       "49  1.187569e-03\n",
       "30  7.715782e-06\n",
       "31  1.586321e-06\n",
       "18  9.146671e-08\n",
       "45  0.000000e+00\n",
       "23  0.000000e+00\n",
       "3  -1.043589e-08\n",
       "37 -5.168764e-07\n",
       "15 -6.481220e-07\n",
       "27 -1.009365e-06\n",
       "22 -1.009365e-06\n",
       "29 -2.685971e-06\n",
       "43 -3.756689e-06\n",
       "38 -3.936850e-06\n",
       "7  -1.206027e-05\n",
       "6  -1.807305e-05\n",
       "25 -2.550948e-05\n",
       "13 -6.734572e-05\n",
       "14 -9.013456e-05\n",
       "19 -1.249768e-04\n",
       "4  -2.028726e-04\n",
       "10 -2.366615e-04\n",
       "42 -2.583273e-04\n",
       "40 -2.592880e-04\n",
       "9  -3.559899e-04\n",
       "20 -3.749305e-04\n",
       "8  -4.160015e-04\n",
       "12 -4.300914e-04\n",
       "17 -6.715560e-04\n",
       "47 -1.001410e-03\n",
       "36 -1.067841e-03\n",
       "46 -1.228883e-03\n",
       "41 -1.394428e-03\n",
       "16 -5.175445e-03\n",
       "11 -8.660861e-03\n",
       "5  -1.078155e-02\n",
       "34 -1.085479e-02\n",
       "28 -1.110888e-02\n",
       "35 -1.324693e-02\n",
       "0  -3.164165e-01"
      ]
     },
     "execution_count": 221,
     "metadata": {},
     "output_type": "execute_result"
    }
   ],
   "source": [
    "probabilities_10.head(50).sort_values(\"Coeffs\", ascending=False)"
   ]
  },
  {
   "cell_type": "code",
   "execution_count": null,
   "metadata": {},
   "outputs": [],
   "source": []
  },
  {
   "cell_type": "code",
   "execution_count": null,
   "metadata": {},
   "outputs": [],
   "source": []
  },
  {
   "cell_type": "code",
   "execution_count": 202,
   "metadata": {},
   "outputs": [
    {
     "data": {
      "text/plain": [
       "(1, 43504)"
      ]
     },
     "execution_count": 202,
     "metadata": {},
     "output_type": "execute_result"
    }
   ],
   "source": []
  },
  {
   "cell_type": "code",
   "execution_count": null,
   "metadata": {},
   "outputs": [],
   "source": [
    "vectorizer.vocabulary_.value(423)"
   ]
  },
  {
   "cell_type": "code",
   "execution_count": 204,
   "metadata": {},
   "outputs": [],
   "source": [
    "inv_map = {v: k for k, v in vectorizer.vocabulary_.items()}"
   ]
  },
  {
   "cell_type": "code",
   "execution_count": 205,
   "metadata": {},
   "outputs": [
    {
     "data": {
      "text/plain": [
       "{12649: 'amazon',\n",
       " 33091: 'promotion5',\n",
       " 24754: 'hund',\n",
       " 24777: 'hundin',\n",
       " 24592: 'hos',\n",
       " 27674: 'laufig',\n",
       " 27220: 'kund',\n",
       " 12893: 'angeseh',\n",
       " 25310: 'interessiert',\n",
       " 21881: 'fur',\n",
       " 13364: 'artikel',\n",
       " 24722: 'https',\n",
       " 42310: 'www',\n",
       " 17880: 'de',\n",
       " 36209: 'sim',\n",
       " 14211: 'b00e0ivcfa',\n",
       " 20400: 'europet',\n",
       " 15163: 'bernina',\n",
       " 8287: '388',\n",
       " 8597: '416655',\n",
       " 35584: 'schutzhosch',\n",
       " 17126: 'classic',\n",
       " 9052: '500',\n",
       " 9461: '590',\n",
       " 29644: 'mm',\n",
       " 25179: 'inklusiv',\n",
       " 24818: 'hygieneeinlag',\n",
       " 23167: 'gp',\n",
       " 32989: 'product',\n",
       " 33890: 'ref',\n",
       " 19690: 'em_si_text',\n",
       " 32837: 'preis',\n",
       " 20376: 'eur',\n",
       " 9955: '69',\n",
       " 8596: '416624',\n",
       " 4555: '240',\n",
       " 7575: '310',\n",
       " 14210: 'b00e0itsug',\n",
       " 10099: '70',\n",
       " 29119: 'mehr',\n",
       " 19843: 'entdeck',\n",
       " 24721: 'http',\n",
       " 21430: 'footer',\n",
       " 12652: 'amazonlogo',\n",
       " 21398: 'folg',\n",
       " 20586: 'facebook',\n",
       " 33874: 'redirect',\n",
       " 24715: 'html',\n",
       " 35744: 'sef_fb',\n",
       " 24933: 'ie',\n",
       " 39780: 'utf8',\n",
       " 28322: 'location',\n",
       " 17233: 'com',\n",
       " 38483: 'token',\n",
       " 9997: '6bd0fb927cc51e76ff446584b1040f70ea7e88e1',\n",
       " 26544: 'klick',\n",
       " 43198: 'zukunft',\n",
       " 30234: 'nachricht',\n",
       " 13352: 'art',\n",
       " 20076: 'erhalt',\n",
       " 23395: 'gss',\n",
       " 3249: '1exnlnib9veyt55faxheug3bkvtq0v1rra5fqqopiejcwyydmc3yi7pbikly6ifkt',\n",
       " 15683: 'bitt',\n",
       " 14735: 'beacht',\n",
       " 17758: 'dass',\n",
       " 21403: 'folgend',\n",
       " 12208: 'adress',\n",
       " 40388: 'versandt',\n",
       " 42272: 'wurd',\n",
       " 41037: 'vorname',\n",
       " 30317: 'nam',\n",
       " 19692: 'email',\n",
       " 39522: 'unt',\n",
       " 26865: 'konto',\n",
       " 26822: 'konn',\n",
       " 13970: 'ausserd',\n",
       " 22902: 'gewunscht',\n",
       " 28675: 'mail',\n",
       " 21457: 'format',\n",
       " 20954: 'festleg',\n",
       " 38201: 'text',\n",
       " 13118: 'antwort',\n",
       " 20673: 'fall',\n",
       " 26855: 'kontakti',\n",
       " 29701: 'mocht',\n",
       " 15088: 'benutz',\n",
       " 26854: 'kontaktformular',\n",
       " 12535: 'all',\n",
       " 14970: 'beinhalt',\n",
       " 22724: 'gesetz',\n",
       " 29133: 'mehrwertsteu',\n",
       " 36389: 'sof',\n",
       " 13125: 'anwend',\n",
       " 21115: 'findet',\n",
       " 27528: 'land',\n",
       " 22376: 'geltend',\n",
       " 37176: 'steuersatz',\n",
       " 21112: 'find',\n",
       " 24083: 'help',\n",
       " 17580: 'customer',\n",
       " 18537: 'display',\n",
       " 32030: 'pe_121',\n",
       " 30805: 'nodeid',\n",
       " 9236: '526798',\n",
       " 15291: 'bestell',\n",
       " 28089: 'lief',\n",
       " 18339: 'deutschland',\n",
       " 31520: 'osterreich',\n",
       " 15028: 'belgi',\n",
       " 28084: 'liechtenstein',\n",
       " 28545: 'luxemburg',\n",
       " 30228: 'nachnameland',\n",
       " 35632: 'schweiz',\n",
       " 11746: 'ab',\n",
       " 15349: 'bestellwert',\n",
       " 5886: '29',\n",
       " 0: '00',\n",
       " 33929: 'regel',\n",
       " 40369: 'versandkostenfrei',\n",
       " 16319: 'buchbestell',\n",
       " 26983: 'kostenlos',\n",
       " 18303: 'detail',\n",
       " 40363: 'versandkost',\n",
       " 16260: 'browse',\n",
       " 32031: 'pe_122',\n",
       " 30804: 'node',\n",
       " 9102: '504950',\n",
       " 33800: 'rechtlich',\n",
       " 23339: 'grund',\n",
       " 32853: 'preisgebund',\n",
       " 16317: 'buch',\n",
       " 33881: 'reduziert',\n",
       " 12796: 'angebot',\n",
       " 25053: 'inbegriff',\n",
       " 22375: 'gelt',\n",
       " 36429: 'solang',\n",
       " 41051: 'vorrat',\n",
       " 33998: 'reicht',\n",
       " 23678: 'handel',\n",
       " 25624: 'jedoch',\n",
       " 40951: 'vorbestellt',\n",
       " 41742: 'werd',\n",
       " 40092: 'verfugbar',\n",
       " 40720: 'video',\n",
       " 38424: 'titel',\n",
       " 27670: 'laufend',\n",
       " 31220: 'ohn',\n",
       " 41606: 'weit',\n",
       " 29527: 'mitteil',\n",
       " 12739: 'and',\n",
       " 33894: 'referenc',\n",
       " 2522: '169206151',\n",
       " 3738: '2015',\n",
       " 25056: 'inc',\n",
       " 38464: 'tochtergesellschaft',\n",
       " 33796: 'recht',\n",
       " 40939: 'vorbehalt',\n",
       " 25041: 'impressum',\n",
       " 32194: 'pe_footer_impressum',\n",
       " 9107: '505050',\n",
       " 12329: 'ahnlich',\n",
       " 26141: 'kategori',\n",
       " 41036: 'vornam',\n",
       " 30225: 'nachnam',\n",
       " 34424: 'riesig',\n",
       " 14011: 'auswahl',\n",
       " 22579: 'gesamt',\n",
       " 36550: 'sortiment',\n",
       " 12651: 'amazonbasics',\n",
       " 14058: 'auto',\n",
       " 29853: 'motorrad',\n",
       " 14392: 'baby',\n",
       " 14666: 'baumarkt',\n",
       " 15005: 'bekleid',\n",
       " 16486: 'burobedarf',\n",
       " 17278: 'comput',\n",
       " 43113: 'zubehor',\n",
       " 18785: 'drogeri',\n",
       " 14449: 'bad',\n",
       " 18991: 'dvd',\n",
       " 15894: 'blu',\n",
       " 33689: 'ray',\n",
       " 19641: 'elektron',\n",
       " 21497: 'foto',\n",
       " 22031: 'gart',\n",
       " 22866: 'gewerb',\n",
       " 25094: 'industri',\n",
       " 42057: 'wissenschaft',\n",
       " 23928: 'hausti',\n",
       " 26395: 'kindle',\n",
       " 36035: 'shop',\n",
       " 27157: 'kuch',\n",
       " 23897: 'haushalt',\n",
       " 27765: 'lebensmittel',\n",
       " 22820: 'getrank',\n",
       " 30041: 'musik',\n",
       " 16805: 'cd',\n",
       " 40791: 'vinyl',\n",
       " 18691: 'download',\n",
       " 30048: 'musikinstrument',\n",
       " 31834: 'parfumeri',\n",
       " 26971: 'kosmet',\n",
       " 35391: 'schmuck',\n",
       " 35528: 'schuh',\n",
       " 36409: 'softwar',\n",
       " 36742: 'spielzeug',\n",
       " 36766: 'sport',\n",
       " 21652: 'freizeit',\n",
       " 39214: 'uhr',\n",
       " 21983: 'gam',\n",
       " 32906: 'prim',\n",
       " 18384: 'di',\n",
       " 29372: 'mileston',\n",
       " 16735: 'card',\n",
       " 30575: 'neu',\n",
       " 19746: 'empfehl',\n",
       " 14611: 'basier',\n",
       " 27328: 'kurzlich',\n",
       " 37510: 'suchanfrag',\n",
       " 14402: 'babygeschenk',\n",
       " 19545: 'einzigart',\n",
       " 14218: 'b00f53j7he',\n",
       " 19686: 'em_gn_t1_2p_1_ti',\n",
       " 29373: 'milestone',\n",
       " 20101: 'erinnerungskart',\n",
       " 14225: 'b00gntakxe',\n",
       " 19687: 'em_gn_t1_2p_2_ti',\n",
       " 29403: 'mini',\n",
       " 1056: '100',\n",
       " 24984: 'illustriert',\n",
       " 14245: 'b00na10jqq',\n",
       " 19688: 'em_gn_t1_2p_3_ti',\n",
       " 21506: 'fotokarten',\n",
       " 16104: 'box',\n",
       " 23059: 'glucksmoment',\n",
       " 14413: 'babys',\n",
       " 14295: 'b01fuxvxj8',\n",
       " 19689: 'em_gn_t1_2p_4_ti',\n",
       " 8325: '3968850031',\n",
       " 3508: '1x4cpvxp3db5yl5fpdwwobcrvpj5qb7tdfpn0yypqhicw',\n",
       " 42650: 'yqid0xz2wglfzomnab2',\n",
       " 2600: '171623601',\n",
       " 36465: 'sonderangebot',\n",
       " 19750: 'empfiehlt',\n",
       " 20446: 'ewig',\n",
       " 14613: 'basis',\n",
       " 22319: 'gekauft',\n",
       " 15484: 'bewertet',\n",
       " 19993: 'eragon',\n",
       " 19996: 'erb',\n",
       " 28621: 'macht',\n",
       " 42257: 'wunschkonzert',\n",
       " 34555: 'roman',\n",
       " 23154: 'gott',\n",
       " 18893: 'dunkel',\n",
       " 23148: 'gorian',\n",
       " 14724: 'bd',\n",
       " 193: '01',\n",
       " 40244: 'vermachtnis',\n",
       " 26557: 'kling',\n",
       " 28649: 'magisch',\n",
       " 32681: 'portal',\n",
       " 41680: 'weltennebel',\n",
       " 23088: 'go',\n",
       " 38456: 'to',\n",
       " 34448: 'rio',\n",
       " 12497: 'album',\n",
       " 40489: 'version',\n",
       " 37125: 'stepheni',\n",
       " 29283: 'mey',\n",
       " 29113: 'meg',\n",
       " 16664: 'cabot',\n",
       " 26353: 'kim',\n",
       " 23789: 'harrison',\n",
       " 29309: 'michel',\n",
       " 25539: 'jaff',\n",
       " 27685: 'laur',\n",
       " 30111: 'myracl',\n",
       " 14564: 'barbara',\n",
       " 29965: 'mull',\n",
       " 18696: 'dp',\n",
       " 8028: '3442375711',\n",
       " 32016: 'pd_re_dt_td1',\n",
       " 11291: '95',\n",
       " 17044: 'christoph',\n",
       " 31793: 'paolini',\n",
       " 29307: 'michaela',\n",
       " 28220: 'link',\n",
       " 8108: '357013816x',\n",
       " 32017: 'pd_re_dt_td2',\n",
       " 4554: '24',\n",
       " 11430: '99',\n",
       " 12978: 'ann',\n",
       " 24195: 'hertz',\n",
       " 8013: '3426507226',\n",
       " 32018: 'pd_re_dt_td3',\n",
       " 32423: 'pierr',\n",
       " 23276: 'grimbert',\n",
       " 36498: 'sonja',\n",
       " 21111: 'finck',\n",
       " 15437: 'bettina',\n",
       " 13321: 'arlt',\n",
       " 8043: '3453528093',\n",
       " 32019: 'pd_re_dt_td4',\n",
       " 12508: 'alfred',\n",
       " 15002: 'bekk',\n",
       " 8023: '3442267633',\n",
       " 32020: 'pd_re_dt_td5',\n",
       " 12350: 'aile',\n",
       " 34503: 'robert',\n",
       " 8029: '344247518x',\n",
       " 32021: 'pd_re_dt_td6',\n",
       " 1513: '12',\n",
       " 32285: 'pet',\n",
       " 14170: 'b004bz7ivy',\n",
       " 32022: 'pd_re_dt_td7',\n",
       " 13142: 'anzeig',\n",
       " 42642: 'yourstore',\n",
       " 32015: 'pd_re_dt_fl',\n",
       " 22959: 'ging',\n",
       " 3152: '1cqvbyaourvaizcghiklsy43wtsoayn0jxibjeewdu4wbcvsyumdasf1ogjsyz3t',\n",
       " 18336: 'deutsch',\n",
       " 13837: 'ausgenomm',\n",
       " 18457: 'digital',\n",
       " 41661: 'welch',\n",
       " 30089: 'mwst',\n",
       " 24689: 'href',\n",
       " 32866: 'preisvergleich',\n",
       " 15521: 'bezieh',\n",
       " 21764: 'fruh',\n",
       " 27472: 'ladenpreis',\n",
       " 31467: 'originalausgab',\n",
       " 15124: 'bereich',\n",
       " 36572: 'sowi',\n",
       " 23880: 'haus',\n",
       " 39620: 'unverbind',\n",
       " 32847: 'preisempfehl',\n",
       " 24182: 'herstell',\n",
       " 36571: 'soweit',\n",
       " 12855: 'angegeb',\n",
       " 8602: '41728341',\n",
       " 22149: 'gebraucht',\n",
       " 28875: 'marketplace',\n",
       " 25656: 'jeweil',\n",
       " 40156: 'verkauf',\n",
       " 20947: 'festgelegt',\n",
       " 17670: 'dah',\n",
       " 25623: 'jederzeit',\n",
       " 23714: 'handl',\n",
       " 40449: 'versend',\n",
       " 13973: 'ausserhalb',\n",
       " 15247: 'besond',\n",
       " 40348: 'versandbeding',\n",
       " 23014: 'gleich',\n",
       " 22953: 'gilt',\n",
       " 42900: 'zeitschriften',\n",
       " 11922: 'abonnement',\n",
       " 8323: '3961931',\n",
       " 32225: 'per',\n",
       " 35788: 'selbstausdruck',\n",
       " 22653: 'geschenkgutschein',\n",
       " 17733: 'darf',\n",
       " 20272: 'erwart',\n",
       " 21846: 'funf',\n",
       " 32673: 'popular',\n",
       " 39717: 'us',\n",
       " 14082: 'autorinn',\n",
       " 17754: 'darunt',\n",
       " 15368: 'bestseller',\n",
       " 23296: 'gross',\n",
       " 38239: 'the',\n",
       " 38981: 'twilight',\n",
       " 35911: 'seri',\n",
       " 32570: 'plotzlich',\n",
       " 32919: 'prinzessin',\n",
       " 25122: 'information',\n",
       " 27578: 'lang',\n",
       " 20227: 'ersehnt',\n",
       " 23208: 'grandios',\n",
       " 21081: 'final',\n",
       " 34958: 'saga',\n",
       " 35487: 'schrecklich',\n",
       " 27101: 'krieg',\n",
       " 42305: 'wutet',\n",
       " 12472: 'alagaësia',\n",
       " 40862: 'volk',\n",
       " 43301: 'zusammengeschloss',\n",
       " 42993: 'zieh',\n",
       " 26014: 'kampf',\n",
       " 22238: 'geg',\n",
       " 21972: 'galbatorix',\n",
       " 23227: 'grausam',\n",
       " 24176: 'herrsch',\n",
       " 25029: 'imperium',\n",
       " 35648: 'schwestern',\n",
       " 18902: 'duo',\n",
       " 28135: 'liefert',\n",
       " 36140: 'siebt',\n",
       " 21584: 'frauenroman',\n",
       " 41902: 'wied',\n",
       " 12549: 'allerfein',\n",
       " 27965: 'lesespass',\n",
       " 19126: 'echt',\n",
       " 34559: 'romant',\n",
       " 35764: 'seit',\n",
       " 36992: 'stark',\n",
       " 21580: 'frau',\n",
       " 28719: 'mal',\n",
       " 35294: 'schipp',\n",
       " 30758: 'nimmt',\n",
       " 39689: 'urkom',\n",
       " 11776: 'abenteu',\n",
       " 25226: 'insel',\n",
       " 25668: 'ji',\n",
       " 22303: 'geht',\n",
       " 22197: 'gefahr',\n",
       " 25858: 'jung',\n",
       " 33647: 'ratsel',\n",
       " 28389: 'los',\n",
       " 13582: 'aufgab',\n",
       " 24796: 'hut',\n",
       " 22284: 'geheimnis',\n",
       " 22531: 'gerecht',\n",
       " 12128: 'achtung',\n",
       " 20723: 'fan',\n",
       " 26744: 'kommt',\n",
       " 41745: 'werdet',\n",
       " 28056: 'lieb',\n",
       " 37458: 'sturm',\n",
       " 35244: 'scherg',\n",
       " 21131: 'finst',\n",
       " 29826: 'morygor',\n",
       " 39047: 'uber',\n",
       " 18663: 'dorf',\n",
       " 24105: 'her',\n",
       " 19891: 'entkomm',\n",
       " 37148: 'sternenkling',\n",
       " 35199: 'schattenstich',\n",
       " 43406: 'zwei',\n",
       " 34401: 'richtig',\n",
       " 27941: 'les',\n",
       " 20732: 'fantast',\n",
       " 41678: 'welt',\n",
       " 40879: 'voll',\n",
       " 28647: 'magi',\n",
       " 19489: 'eintauch',\n",
       " 20941: 'fesseln',\n",
       " 27635: 'lass',\n",
       " 27204: 'kultura',\n",
       " 20514: 'extra',\n",
       " 29872: 'mp3',\n",
       " 24772: 'hunderttaus',\n",
       " 13370: 'artikeln',\n",
       " 13863: 'ausgewahlt',\n",
       " 41993: 'windeln',\n",
       " 14410: 'babypfleg',\n",
       " 23929: 'haustierbedarf',\n",
       " 32918: 'prinz',\n",
       " 35197: 'schatt',\n",
       " 35198: 'schattenprinz',\n",
       " 35614: 'schwarz',\n",
       " 32926: 'prisma',\n",
       " 28040: 'licht',\n",
       " 38193: 'tetralogi',\n",
       " 36722: 'spiegelzeit',\n",
       " 24325: 'himmelsschwing',\n",
       " 30923: 'novell',\n",
       " 30626: 'neurowissenschaft',\n",
       " 19317: 'einfuhr',\n",
       " 42242: 'wunderkerz',\n",
       " 20981: 'festung',\n",
       " 38420: 'titan',\n",
       " 23156: 'gotterkrieg',\n",
       " 38534: 'torst',\n",
       " 21128: 'fink',\n",
       " 8026: '3442268567',\n",
       " 2241: '15',\n",
       " 16191: 'brent',\n",
       " 41544: 'week',\n",
       " 23668: 'han',\n",
       " 8025: '3442268168',\n",
       " 42158: 'wolfgang',\n",
       " 24510: 'hohlbein',\n",
       " 24007: 'heik',\n",
       " 8234: '3800053195',\n",
       " 1872: '14',\n",
       " 25618: 'jeanin',\n",
       " 27128: 'krock',\n",
       " 8044: '3453528999',\n",
       " 20094: 'eric',\n",
       " 26029: 'kandel',\n",
       " 25576: 'jam',\n",
       " 35612: 'schwartz',\n",
       " 38296: 'thomas',\n",
       " 25644: 'jessell',\n",
       " 8260: '3827429056',\n",
       " 8918: '49',\n",
       " 8014: '3426629771',\n",
       " 34395: 'richard',\n",
       " 8059: '3492268846',\n",
       " 1055: '10',\n",
       " 3213: '1dtmluyswrgyxfevhy5gdfi3wtsoayn0jxibjeewdu4wbcvsyumdasf1ogjsyz3t',\n",
       " 8343: '39991401',\n",
       " 13431: 'assassin',\n",
       " 20098: 'erinner',\n",
       " 40103: 'vergess',\n",
       " 20099: 'erinnert',\n",
       " 17727: 'daran',\n",
       " 24040: 'heisst',\n",
       " 30321: 'namenlos',\n",
       " 33615: 'rasch',\n",
       " 26473: 'klar',\n",
       " 19474: 'einst',\n",
       " 22002: 'ganz',\n",
       " 26936: 'kopfkino',\n",
       " 26485: 'klassik',\n",
       " 22463: 'genres',\n",
       " 32363: 'phantastik',\n",
       " 30645: 'news',\n",
       " 41720: 'wer',\n",
       " 19971: 'episch',\n",
       " 20734: 'fantasy',\n",
       " 27748: 'lebend',\n",
       " 22692: 'geschrieb',\n",
       " 12139: 'action',\n",
       " 37689: 'sz',\n",
       " 30524: 'nervenzerreiss',\n",
       " 36610: 'spannung',\n",
       " 23002: 'glaslabyrinth',\n",
       " 34797: 'rummelplatz',\n",
       " 27637: 'lasst',\n",
       " 25847: 'julian',\n",
       " 12327: 'ahn',\n",
       " 14889: 'beginnt',\n",
       " 20613: 'fahig',\n",
       " 36720: 'spiegel',\n",
       " 22268: 'geh',\n",
       " 40453: 'versetzt',\n",
       " 34612: 'routineauftrag',\n",
       " 21822: 'fuhrt',\n",
       " 35000: 'samjiel',\n",
       " 22425: 'general',\n",
       " 24326: 'himmlisch',\n",
       " 23994: 'heerschar',\n",
       " 35040: 'sankt',\n",
       " 32289: 'petersburg',\n",
       " 27939: 'lernt',\n",
       " 27755: 'lebensfroh',\n",
       " 25425: 'iris',\n",
       " 26249: 'kenn',\n",
       " 19214: 'ehe',\n",
       " 40487: 'versieht',\n",
       " 37076: 'steht',\n",
       " 26930: 'kopf',\n",
       " 33934: 'regeln',\n",
       " 40229: 'verlieb',\n",
       " 18914: 'durcharbeit',\n",
       " 39270: 'umfass',\n",
       " 19747: 'empfehlenswert',\n",
       " 27834: 'lehrbuch',\n",
       " 25001: 'imm',\n",
       " 13572: 'auffass',\n",
       " 15265: 'bestarkt',\n",
       " 33159: 'psychisch',\n",
       " 40970: 'vorgang',\n",
       " 37661: 'symptom',\n",
       " 27981: 'letztlich',\n",
       " 32407: 'physiolog',\n",
       " 19260: 'eigent',\n",
       " 13122: 'anwaltin',\n",
       " 38177: 'tessa',\n",
       " 23469: 'gut',\n",
       " 37890: 'tat',\n",
       " 40882: 'vollbring',\n",
       " 38938: 'tur',\n",
       " 28059: 'liebeskrank',\n",
       " 30171: 'nachbarn',\n",
       " 38781: 'trennung',\n",
       " 32798: 'prasentiert',\n",
       " 28625: 'mad',\n",
       " 22558: 'germany',\n",
       " 31662: 'packend',\n",
       " 29512: 'mitreiss',\n",
       " 26194: 'kaum',\n",
       " 17417: 'couch',\n",
       " 1342: '11',\n",
       " 646: '09',\n",
       " 3721: '2013',\n",
       " 23107: 'gold',\n",
       " 17085: 'city',\n",
       " 21526: 'fourth',\n",
       " 33737: 'realm',\n",
       " 38811: 'trilogy',\n",
       " 18897: 'dunkl',\n",
       " 38316: 'thron',\n",
       " 24392: 'histor',\n",
       " 18290: 'dessert',\n",
       " 25776: 'john',\n",
       " 38978: 'twelv',\n",
       " 23942: 'hawk',\n",
       " 481: '0552153362',\n",
       " 11073: '90',\n",
       " 33746: 'rebecca',\n",
       " 21957: 'gablé',\n",
       " 8002: '3404168437',\n",
       " 28841: 'marian',\n",
       " 26300: 'key',\n",
       " 24431: 'hobel',\n",
       " 8046: '3453580192',\n",
       " 8024: '3442267641',\n",
       " 3354: '1qu1fcpi7xhrip0mpcnyxyy3wtsoayn0jxibjeewdu4wbcvsyumdasf1ogjsyz3t',\n",
       " 8317: '39563661',\n",
       " 37414: 'struggling',\n",
       " 33103: 'protect',\n",
       " 27815: 'legacy',\n",
       " 31173: 'of',\n",
       " 24389: 'his',\n",
       " 38742: 'travell',\n",
       " 20775: 'fath',\n",
       " 21958: 'gabriel',\n",
       " 20585: 'fac',\n",
       " 38858: 'troubling',\n",
       " 33464: 'question',\n",
       " 34178: 'relentless',\n",
       " 38313: 'threat',\n",
       " 21733: 'from',\n",
       " 19788: 'enemi',\n",
       " 31262: 'old',\n",
       " 30643: 'new',\n",
       " 16254: 'broth',\n",
       " 29306: 'michael',\n",
       " 30927: 'now',\n",
       " 21152: 'firmly',\n",
       " 12564: 'allied',\n",
       " 42066: 'with',\n",
       " 36233: 'sinist',\n",
       " 16192: 'brethr',\n",
       " 24591: 'horzu',\n",
       " 27769: 'lebensnah',\n",
       " 12409: 'akrib',\n",
       " 33763: 'recherchiert',\n",
       " 35278: 'schildert',\n",
       " 15369: 'bestsellerautorin',\n",
       " 19829: 'englisch',\n",
       " 29533: 'mittelalter',\n",
       " 16215: 'brigitt',\n",
       " 17848: 'davon',\n",
       " 20740: 'farb',\n",
       " 22523: 'gerausch',\n",
       " 26559: 'klingt',\n",
       " 25524: 'ja',\n",
       " 20771: 'fast',\n",
       " 16718: 'candac',\n",
       " 16499: 'bushnell',\n",
       " 25007: 'immerhin',\n",
       " 27202: 'kultseri',\n",
       " 35980: 'sex',\n",
       " 21790: 'frustriert',\n",
       " 18754: 'dreissigerinn',\n",
       " 40200: 'verkork',\n",
       " 14397: 'babybettausstatt',\n",
       " 30610: 'neuheit',\n",
       " 15367: 'bestsell',\n",
       " 39779: 'utf',\n",
       " 8326: '3968977031',\n",
       " 28991: 'matratzenschutz',\n",
       " 14396: 'babybett',\n",
       " 8330: '3968983031',\n",
       " 15440: 'bettwasche',\n",
       " 35963: 'set',\n",
       " 8329: '3968980031',\n",
       " 15434: 'bettbezug',\n",
       " 8327: '3968978031',\n",
       " 15438: 'bettvolant',\n",
       " 11340: '9645617031',\n",
       " 15436: 'bettdeck',\n",
       " 8328: '3968979031',\n",
       " 36605: 'spannbetttuch',\n",
       " 27502: 'lak',\n",
       " 8331: '3968984031',\n",
       " 3282: '1jdr4ib9cvlumanvdjhm9h0losguscbufjcn0fdknkmgwyydmc3yi7pbikly6ifkt',\n",
       " 2601: '171737021',\n",
       " 3814: '2017',\n",
       " 40701: 'vfe',\n",
       " 16695: 'campaign',\n",
       " 34286: 'respons',\n",
       " 15070: 'bench',\n",
       " 39423: 'unfolding',\n",
       " 25531: 'jacket',\n",
       " 17737: 'dark',\n",
       " 26325: 'khaki',\n",
       " 37509: 'such',\n",
       " 32997: 'produkt',\n",
       " 17684: 'dam',\n",
       " 25530: 'jack',\n",
       " 14229: 'b00h3deh6k',\n",
       " 11352: '97',\n",
       " 14224: 'b00gnl8x4u',\n",
       " 1428: '115',\n",
       " 31266: 'oldham',\n",
       " 14192: 'b00a141z4u',\n",
       " 11257: '94',\n",
       " 36334: 'smarti',\n",
       " 15873: 'blka1664',\n",
       " 14189: 'b009t3q7ba',\n",
       " 10812: '84',\n",
       " 12584: 'alp',\n",
       " 14193: 'b00a2a391u',\n",
       " 9460: '59',\n",
       " 11393: '98',\n",
       " 1367: '111',\n",
       " 11324: '96',\n",
       " 26330: 'khujo',\n",
       " 25502: 'iva',\n",
       " 32496: 'plain',\n",
       " 14226: 'b00gs98bwq',\n",
       " 1277: '109',\n",
       " 21428: 'foolhardy',\n",
       " 14207: 'b00cratnmc',\n",
       " 9394: '57',\n",
       " 10781: '83',\n",
       " 1414: '114',\n",
       " 16312: 'bubbl',\n",
       " 15868: 'blka1486',\n",
       " 14194: 'b00a2a6dls',\n",
       " 2394: '159',\n",
       " 32204: 'pe_vf',\n",
       " 3305: '1lqjn6lmkvlqwmzrthxh6oy3wtsoayn0jxibjeewdu4zssgl',\n",
       " 28554: 'lvduwmibrvympsy2',\n",
       " 3622: '20',\n",
       " 23732: 'handtaschen',\n",
       " 26516: 'kleidungsbestell',\n",
       " 25211: 'innerhalb',\n",
       " 8741: '44159471',\n",
       " 40338: 'versand',\n",
       " 35529: 'schuhdeal',\n",
       " 37591: 'surfdom',\n",
       " 18797: 'drop',\n",
       " 19976: 'epoxy',\n",
       " 23076: 'gmbh',\n",
       " 15959: 'boardershop',\n",
       " 42021: 'winterjack',\n",
       " 40411: 'verschied',\n",
       " 1192: '104',\n",
       " 1221: '1054jk133',\n",
       " 17069: 'cill',\n",
       " 26058: 'kapuz',\n",
       " 10848: '85',\n",
       " 5604: '28',\n",
       " 2802: '189',\n",
       " 1406: '1133co133',\n",
       " 17124: 'clammy',\n",
       " 2325: '152',\n",
       " 9846: '66',\n",
       " 36406: 'softshelljack',\n",
       " 41997: 'windmill',\n",
       " 1144: '101',\n",
       " 15391: 'betina',\n",
       " 9285: '54',\n",
       " 10470: '79',\n",
       " 15658: 'biothane',\n",
       " 35341: 'schlepplein',\n",
       " 1682: '13',\n",
       " 18222: 'denk',\n",
       " 26826: 'konnt',\n",
       " 25306: 'interessant',\n",
       " 4715: '25',\n",
       " 30510: 'neon',\n",
       " 22342: 'gelb',\n",
       " 7286: '30',\n",
       " 29251: 'met',\n",
       " 1312: '10m',\n",
       " 22214: 'geflocht',\n",
       " 23726: 'handschlauf',\n",
       " 27917: 'lenni',\n",
       " 14266: 'b00yhq1zxy',\n",
       " 32088: 'pe_2444481_158651001_em_1p_0_ti',\n",
       " 8302: '39',\n",
       " 3338: '1opk61hhs7msaqgfrhktfmsnnx4ahc4oq',\n",
       " 19238: 'ei16h',\n",
       " 39846: 'v7h8l7orfsgp7ftr4vpy5lg4q',\n",
       " 2389: '158651001',\n",
       " 27918: 'lennie',\n",
       " 19989: 'equipment',\n",
       " 35629: 'schweisslein',\n",
       " 15384: 'beta',\n",
       " 15657: 'biothan',\n",
       " 24474: 'hochwert',\n",
       " 27296: 'kunststoffgurt',\n",
       " 27786: 'lederahn',\n",
       " 19258: 'eigenschaft',\n",
       " 25190: 'inn',\n",
       " 32647: 'polyestergeweb',\n",
       " 19835: 'enorm',\n",
       " 34148: 'reissfest',\n",
       " 22834: 'gewa',\n",
       " 27276: 'kundin',\n",
       " 12460: 'aktuell',\n",
       " 25176: 'inkl',\n",
       " 24576: 'horbuch',\n",
       " 25977: 'kalend',\n",
       " 26980: 'kostenfrei',\n",
       " 32189: 'pe_button',\n",
       " 2782: '186606',\n",
       " 37234: 'stob',\n",
       " 32251: 'person',\n",
       " 33863: 'recs',\n",
       " 9291: '541686',\n",
       " 34374: 'rgroup',\n",
       " 16050: 'books',\n",
       " 32199: 'pe_row1_b1',\n",
       " 32200: 'pe_row1_b2',\n",
       " 8548: '408344',\n",
       " 38508: 'top',\n",
       " 19112: 'ebook',\n",
       " 29390: 'mindest',\n",
       " 9051: '50',\n",
       " 23454: 'gunstig',\n",
       " 20818: 'feature',\n",
       " 32201: 'pe_row1_b3',\n",
       " 18596: 'docid',\n",
       " 1079: '1000720993',\n",
       " 21666: 'fremdsprach',\n",
       " 32202: 'pe_row1_b4',\n",
       " 9208: '52044011',\n",
       " 15039: 'belletrist',\n",
       " 37872: 'taschenbuch',\n",
       " 1242: '10683251',\n",
       " 20287: 'erzahl',\n",
       " 1451: '117',\n",
       " 27113: 'krimis',\n",
       " 38315: 'thrill',\n",
       " 5821: '287480',\n",
       " 35664: 'scienc',\n",
       " 21031: 'fiction',\n",
       " 1932: '142',\n",
       " 26362: 'kinderbuch',\n",
       " 12616: 'altersempfehl',\n",
       " 5629: '280652',\n",
       " 25835: 'jugendbuch',\n",
       " 9463: '590565031',\n",
       " 34937: 'sachbuch',\n",
       " 2950: '199598031',\n",
       " 20597: 'fachbuch',\n",
       " 15175: 'beruf',\n",
       " 37439: 'studium',\n",
       " 5844: '288100',\n",
       " 29819: 'morg',\n",
       " 40949: 'vorbestell',\n",
       " 2756: '1835725031',\n",
       " 26634: 'kochbuch',\n",
       " 2807: '189528',\n",
       " 7298: '300259',\n",
       " 33640: 'ratgeb',\n",
       " 25549: 'jahr',\n",
       " 9268: '536302',\n",
       " 22096: 'gc',\n",
       " 32195: 'pe_gcq3',\n",
       " 3298: '1l5akplrwpomq4nmcehj9jy3wtsoayn0jxibjeewdu4xjvw8bywx2akm',\n",
       " 31083: 'oajwknka',\n",
       " 20765: 'fashion',\n",
       " 34975: 'sal',\n",
       " 23484: 'gutschein',\n",
       " 16994: 'cher',\n",
       " 33694: 'rb',\n",
       " 36866: 'st',\n",
       " 15158: 'bern',\n",
       " 32247: 'pers',\n",
       " 30781: 'nlich',\n",
       " 30954: 'nstig',\n",
       " 37871: 'taschenb',\n",
       " 16913: 'ch',\n",
       " 20286: 'erz',\n",
       " 24416: 'hlung',\n",
       " 26360: 'kinderb',\n",
       " 25833: 'jugendb',\n",
       " 34934: 'sachb',\n",
       " 20593: 'fachb',\n",
       " 26633: 'kochb',\n",
       " 29381: 'million',\n",
       " 25263: 'instant',\n",
       " 17704: 'dan',\n",
       " 16258: 'brown',\n",
       " 24979: 'illuminati',\n",
       " 26394: 'kindl',\n",
       " 27946: 'lese',\n",
       " 13202: 'app',\n",
       " 24201: 'herunterlad',\n",
       " 32191: 'pe_ecg',\n",
       " 11007: '8988082031',\n",
       " 3270: '1h8shjmotnzokkgkzmn1x4toip4sgsjm5xqkxvm5csqv9s',\n",
       " 15539: 'bfr8a90aqmix',\n",
       " 8483: '3wc2w',\n",
       " 23220: 'gratis',\n",
       " 24286: 'high',\n",
       " 16775: 'castl',\n",
       " 21134: 'fir',\n",
       " 38967: 'tv',\n",
       " 37188: 'stick',\n",
       " 21135: 'fire',\n",
       " 37747: 'tablet',\n",
       " 20015: 'eread',\n",
       " 40804: 'visa',\n",
       " 26082: 'kart',\n",
       " 24759: 'hundebett',\n",
       " 32873: 'premium',\n",
       " 38361: 'tierbedarf',\n",
       " 42409: 'xl',\n",
       " 41426: 'wasserdicht',\n",
       " 24755: 'hunde',\n",
       " 41676: 'welpenbett',\n",
       " 37329: 'strapazierfah',\n",
       " 31587: 'oxford',\n",
       " 22860: 'geweb',\n",
       " 24433: 'hoch',\n",
       " 33435: 'qualitat',\n",
       " 26722: 'komfort',\n",
       " 19948: 'entworf',\n",
       " 28933: 'maschinenwaschbar',\n",
       " 15534: 'bezug',\n",
       " 15105: 'bequem',\n",
       " 15433: 'bett',\n",
       " 24769: 'hundepensions',\n",
       " 20783: 'favorit',\n",
       " 18610: 'dog',\n",
       " 42346: 'x27',\n",
       " 14513: 'ball',\n",
       " 14305: 'b01lp66utc',\n",
       " 32061: 'pe_237011_166530971_em_1p_0_ti',\n",
       " 39619: 'unverb',\n",
       " 32846: 'preisempf',\n",
       " 36612: 'spar',\n",
       " 8777: '45',\n",
       " 8853: '47',\n",
       " 26615: 'knuffelwuff',\n",
       " 1607: '12652',\n",
       " 41427: 'wasserf',\n",
       " 31556: 'outdoor',\n",
       " 28474: 'lucky',\n",
       " 42446: 'xxl',\n",
       " 1459: '118',\n",
       " 10884: '85cm',\n",
       " 16157: 'braun',\n",
       " 14186: 'b0089ld1b2',\n",
       " 32063: 'pe_237011_166530971_em_1p_1_ti',\n",
       " 7991: '34',\n",
       " 7574: '31',\n",
       " 23930: 'haustierbett',\n",
       " 22501: 'gepolstert',\n",
       " 23179: 'gr',\n",
       " 14252: 'b00qhc084i',\n",
       " 32064: 'pe_237011_166530971_em_1p_2_ti',\n",
       " 4409: '23',\n",
       " 24553: 'homeoutfit24',\n",
       " 16384: 'buddy',\n",
       " 31487: 'orthopad',\n",
       " 40813: 'visko',\n",
       " 24764: 'hundekiss',\n",
       " 10210: '72',\n",
       " 17163: 'cm',\n",
       " 14952: 'beig',\n",
       " 11918: 'abnehmbar',\n",
       " 41410: 'waschbar',\n",
       " 41565: 'weich',\n",
       " 32575: 'plusch',\n",
       " 20872: 'fell',\n",
       " 27339: 'kuschel',\n",
       " 24765: 'hundekorb',\n",
       " 24768: 'hundematt',\n",
       " 14306: 'b01lwucjz2',\n",
       " 32065: 'pe_237011_166530971_em_1p_3_ti',\n",
       " 8232: '38',\n",
       " 20606: 'facilla',\n",
       " 28994: 'matt',\n",
       " 35300: 'schlafplatz',\n",
       " 26153: 'katz',\n",
       " 14251: 'b00ok9boxy',\n",
       " 32066: 'pe_237011_166530971_em_1p_4_ti',\n",
       " 18593: 'doc',\n",
       " 14782: 'bed',\n",
       " 26636: 'kochf',\n",
       " 23183: 'grad',\n",
       " 24761: 'hundedeck',\n",
       " 28155: 'liegekiss',\n",
       " 19136: 'eckig',\n",
       " 23224: 'grau',\n",
       " 26068: 'karli',\n",
       " 14197: 'b00ap1aya0',\n",
       " 32067: 'pe_237011_166530971_em_1p_5_ti',\n",
       " 9776: '64',\n",
       " 36494: 'songmics',\n",
       " 34842: 'rutschf',\n",
       " 10611: '80',\n",
       " 32357: 'pgw53b',\n",
       " 14275: 'b017ibccue',\n",
       " 32068: 'pe_237011_166530971_em_1p_6_ti',\n",
       " 30501: 'nemaxx',\n",
       " 26428: 'kiss',\n",
       " 24760: 'hundebox',\n",
       " 38695: 'transportbox',\n",
       " ...}"
      ]
     },
     "execution_count": 205,
     "metadata": {},
     "output_type": "execute_result"
    }
   ],
   "source": [
    "inv_map"
   ]
  },
  {
   "cell_type": "code",
   "execution_count": 223,
   "metadata": {},
   "outputs": [
    {
     "name": "stdout",
     "output_type": "stream",
     "text": [
      "Label:Amazon - diverse. Keywords: artikel haushalt grund angebot luxemburg kindl buch preis amazon erstatt\n",
      "Label:Angebote-Werbung-Newsletter. Keywords: gp ref android mail apps latam dx 2017 huel newslett\n",
      "Label:Bestellbest┬Дaetigungen. Keywords: bestell kauf kaufabwickl erfolgreich summ einkauf stadt aufgenomm playstation bestellbestat\n",
      "Label:Amazon. Keywords: 7624958 8645460 verand websit eur mocht find besuch nordrhein westfal\n",
      "Label:Kino. Keywords: reservier kart kinopolis reservierungsnumm sitzplatz reserviert kino buchungsbestat platz cineplex\n",
      "Label:Mietwagen. Keywords: 9812899259 0180 pullach 66 reservier 44 reservierungsanfrag dt 25 sixt\n",
      "Label:Rechnungen. Keywords: mwst unitymedia adob anbei pdf foodora tomtom 19 nr rechnung\n",
      "Label:Reisen. Keywords: abicht explorer venere bahn gebucht unterkunft tripadvisor reis hotel buchung\n",
      "Label:Retoure. Keywords: 5431504 amazon retourensend widerruf retour mytoys rucksend link uber zalando\n",
      "Label:Veranstaltungen. Keywords: service mitt inkl cent 70eur xxxx 4847467 44 ticket eventim\n",
      "Label:Versandbestae┬Дtigung. Keywords: herm heut ___________________________________________________________________________ rossmann versandbestat versendet verschickt versand wurd ref\n",
      "Label:DHL. Keywords: stadt sendung welt paket heile babys paketankund 00340433836843409721 packstation dhl\n",
      "Label:DPD. Keywords: entgegennehm pro deutsch zwisch anruf wailandtstrass paket abstellgenehm aschaffenburg dpd\n",
      "Label:GLS. Keywords: registergericht amsterdam bad general system logistics neuenstein hersfeld sitz gls\n",
      "Label:UPS. Keywords: delivery of kontakti numb kontrollnumm united parcel america gond ups\n",
      "Label:Zahlungseingang. Keywords: euro alltour tooltraders tooltrad eingegang konto csl ord zahlungseingang zahlung\n"
     ]
    }
   ],
   "source": [
    "feature_names = np.asarray(vectorizer.get_feature_names())\n",
    "for i, label in enumerate(d.keys()):\n",
    "    top10 = np.argsort(lr.coef_[i])[-10:]\n",
    "    print(\"Label:{}. Keywords: {}\".format(label, \" \".join(feature_names[top10])))"
   ]
  },
  {
   "cell_type": "code",
   "execution_count": null,
   "metadata": {},
   "outputs": [],
   "source": []
  },
  {
   "cell_type": "code",
   "execution_count": null,
   "metadata": {},
   "outputs": [],
   "source": []
  },
  {
   "cell_type": "code",
   "execution_count": null,
   "metadata": {},
   "outputs": [],
   "source": []
  },
  {
   "cell_type": "code",
   "execution_count": null,
   "metadata": {},
   "outputs": [],
   "source": []
  },
  {
   "cell_type": "code",
   "execution_count": null,
   "metadata": {},
   "outputs": [],
   "source": []
  },
  {
   "cell_type": "code",
   "execution_count": null,
   "metadata": {},
   "outputs": [],
   "source": []
  },
  {
   "cell_type": "code",
   "execution_count": null,
   "metadata": {},
   "outputs": [],
   "source": []
  }
 ],
 "metadata": {
  "kernelspec": {
   "display_name": "Python 3",
   "language": "python",
   "name": "python3"
  },
  "language_info": {
   "codemirror_mode": {
    "name": "ipython",
    "version": 3
   },
   "file_extension": ".py",
   "mimetype": "text/x-python",
   "name": "python",
   "nbconvert_exporter": "python",
   "pygments_lexer": "ipython3",
   "version": "3.6.5"
  }
 },
 "nbformat": 4,
 "nbformat_minor": 2
}
