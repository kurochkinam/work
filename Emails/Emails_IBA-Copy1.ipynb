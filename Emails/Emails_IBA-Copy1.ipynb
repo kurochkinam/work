{
 "cells": [
  {
   "cell_type": "code",
   "execution_count": 15,
   "metadata": {},
   "outputs": [],
   "source": [
    "import os, string\n",
    "import pandas as pd\n",
    "import numpy as np\n",
    "import warnings\n",
    "warnings.filterwarnings('ignore')"
   ]
  },
  {
   "cell_type": "code",
   "execution_count": 2,
   "metadata": {},
   "outputs": [],
   "source": [
    "directory=\"D:\\Trainingsmails_Anonym\"\n",
    "tree=os.listdir(directory)\n"
   ]
  },
  {
   "cell_type": "code",
   "execution_count": 3,
   "metadata": {},
   "outputs": [
    {
     "data": {
      "text/plain": [
       "['Amazon - diverse',\n",
       " 'Angebote-Werbung-Newsletter',\n",
       " 'Bestellbest┬Дaetigungen',\n",
       " 'Kino',\n",
       " 'Mietwagen',\n",
       " 'Rechnungen',\n",
       " 'Reisen',\n",
       " 'Retoure',\n",
       " 'Veranstaltungen',\n",
       " 'Versandbestae┬Дtigung',\n",
       " 'Zahlungseingang']"
      ]
     },
     "execution_count": 3,
     "metadata": {},
     "output_type": "execute_result"
    }
   ],
   "source": [
    "tree"
   ]
  },
  {
   "cell_type": "code",
   "execution_count": null,
   "metadata": {
    "scrolled": true
   },
   "outputs": [],
   "source": [
    "for i in os.walk(directory):\n",
    "    print (i[0])\n",
    "    print (\"has {} folders\".format(len(i[1])))\n",
    "    print (\"has {} files\".format(len(i[2])))\n",
    "    print(\"______\")"
   ]
  },
  {
   "cell_type": "code",
   "execution_count": 4,
   "metadata": {},
   "outputs": [],
   "source": [
    "NEWLINE=\"\\n\""
   ]
  },
  {
   "cell_type": "code",
   "execution_count": 5,
   "metadata": {},
   "outputs": [],
   "source": [
    "def to_base(directory):\n",
    "    base=pd.DataFrame(columns=[\"Text\", \"Label\"])\n",
    "    for address,_,files in os.walk(directory):\n",
    "        for file in files:\n",
    "            if not file.endswith(\".eml\"):\n",
    "                continue\n",
    "            path=os.path.join(address,file)\n",
    "            \n",
    "            with open (path, \"r\", errors='ignore', encoding=\"utf-8\") as f:\n",
    "                passed_header, lines=False, []\n",
    "                for line in f:\n",
    "                    if line.startswith(\"From:\"):\n",
    "                        lines.append(line.replace(\"From: \", \"\").lower())\n",
    "                    if line.startswith(\"Subject:\"):\n",
    "                        lines.append(line.replace(\"Subject: \", \"\").lower())\n",
    "                    if passed_header:\n",
    "                        lines.append(line.lower())\n",
    "                    elif line==NEWLINE:\n",
    "                        passed_header=True\n",
    "            content=NEWLINE.join(lines)            \n",
    "            label=address.split(\"\\\\\")[-1]\n",
    "            row=pd.DataFrame({\"Text\":[content], \"Label\": [label]})\n",
    "            base=base.append(row, ignore_index=True)\n",
    "    return base\n",
    "        "
   ]
  },
  {
   "cell_type": "code",
   "execution_count": 6,
   "metadata": {},
   "outputs": [],
   "source": [
    "data=to_base(directory)"
   ]
  },
  {
   "cell_type": "code",
   "execution_count": 7,
   "metadata": {},
   "outputs": [
    {
     "data": {
      "text/html": [
       "<div>\n",
       "<style scoped>\n",
       "    .dataframe tbody tr th:only-of-type {\n",
       "        vertical-align: middle;\n",
       "    }\n",
       "\n",
       "    .dataframe tbody tr th {\n",
       "        vertical-align: top;\n",
       "    }\n",
       "\n",
       "    .dataframe thead th {\n",
       "        text-align: right;\n",
       "    }\n",
       "</style>\n",
       "<table border=\"1\" class=\"dataframe\">\n",
       "  <thead>\n",
       "    <tr style=\"text-align: right;\">\n",
       "      <th></th>\n",
       "      <th>Text</th>\n",
       "      <th>Label</th>\n",
       "    </tr>\n",
       "  </thead>\n",
       "  <tbody>\n",
       "    <tr>\n",
       "      <th>0</th>\n",
       "      <td>amazon.de &lt;promotion5@amazon.de&gt;\\n\\n\"hund hünd...</td>\n",
       "      <td>Amazon - diverse</td>\n",
       "    </tr>\n",
       "    <tr>\n",
       "      <th>1</th>\n",
       "      <td>amazon.de &lt;promotion5@amazon.de&gt;\\n\\n\"milestone...</td>\n",
       "      <td>Amazon - diverse</td>\n",
       "    </tr>\n",
       "    <tr>\n",
       "      <th>2</th>\n",
       "      <td>amazon.de &lt;promotion5@amazon.de&gt;\\n\\namazon.de ...</td>\n",
       "      <td>Amazon - diverse</td>\n",
       "    </tr>\n",
       "    <tr>\n",
       "      <th>3</th>\n",
       "      <td>amazon.de &lt;promotion5@amazon.de&gt;\\n\\namazon.de ...</td>\n",
       "      <td>Amazon - diverse</td>\n",
       "    </tr>\n",
       "    <tr>\n",
       "      <th>4</th>\n",
       "      <td>amazon.de &lt;promotion5@amazon.de&gt;\\n\\namazon.de ...</td>\n",
       "      <td>Amazon - diverse</td>\n",
       "    </tr>\n",
       "  </tbody>\n",
       "</table>\n",
       "</div>"
      ],
      "text/plain": [
       "                                                Text             Label\n",
       "0  amazon.de <promotion5@amazon.de>\\n\\n\"hund hünd...  Amazon - diverse\n",
       "1  amazon.de <promotion5@amazon.de>\\n\\n\"milestone...  Amazon - diverse\n",
       "2  amazon.de <promotion5@amazon.de>\\n\\namazon.de ...  Amazon - diverse\n",
       "3  amazon.de <promotion5@amazon.de>\\n\\namazon.de ...  Amazon - diverse\n",
       "4  amazon.de <promotion5@amazon.de>\\n\\namazon.de ...  Amazon - diverse"
      ]
     },
     "execution_count": 7,
     "metadata": {},
     "output_type": "execute_result"
    }
   ],
   "source": [
    "data.head()"
   ]
  },
  {
   "cell_type": "code",
   "execution_count": 8,
   "metadata": {},
   "outputs": [],
   "source": [
    "from sklearn.feature_extraction.text import CountVectorizer, TfidfTransformer\n",
    "from collections import Counter\n",
    "from matplotlib import pyplot as plt\n",
    "import seaborn as sns"
   ]
  },
  {
   "cell_type": "code",
   "execution_count": 9,
   "metadata": {},
   "outputs": [],
   "source": [
    "X=data[\"Text\"]\n",
    "y=data[\"Label\"]"
   ]
  },
  {
   "cell_type": "code",
   "execution_count": 10,
   "metadata": {},
   "outputs": [],
   "source": [
    "d={}\n",
    "for i in range(0, y.unique().shape[0]):\n",
    "    d[y.unique()[i]]=i"
   ]
  },
  {
   "cell_type": "code",
   "execution_count": 11,
   "metadata": {},
   "outputs": [
    {
     "data": {
      "text/plain": [
       "{'Amazon - diverse': 0,\n",
       " 'Angebote-Werbung-Newsletter': 1,\n",
       " 'Bestellbest┬Дaetigungen': 2,\n",
       " 'Amazon': 3,\n",
       " 'Kino': 4,\n",
       " 'Mietwagen': 5,\n",
       " 'Rechnungen': 6,\n",
       " 'Reisen': 7,\n",
       " 'Retoure': 8,\n",
       " 'Veranstaltungen': 9,\n",
       " 'Versandbestae┬Дtigung': 10,\n",
       " 'DHL': 11,\n",
       " 'DPD': 12,\n",
       " 'GLS': 13,\n",
       " 'UPS': 14,\n",
       " 'Zahlungseingang': 15}"
      ]
     },
     "execution_count": 11,
     "metadata": {},
     "output_type": "execute_result"
    }
   ],
   "source": [
    "d"
   ]
  },
  {
   "cell_type": "code",
   "execution_count": 12,
   "metadata": {},
   "outputs": [],
   "source": [
    "y1=y.map(d)\n",
    "data[\"Label_coded\"]=y1\n"
   ]
  },
  {
   "cell_type": "code",
   "execution_count": 16,
   "metadata": {},
   "outputs": [
    {
     "data": {
      "image/png": "[encoded data removed]",
      "text/plain": [
       "<Figure size 720x432 with 1 Axes>"
      ]
     },
     "metadata": {},
     "output_type": "display_data"
    }
   ],
   "source": [
    "plt.figure(figsize=(10,6))\n",
    "plt.title(\"Number of files by folder\", fontsize=18)\n",
    "plt.rcParams['axes.labelsize']=\"x-large\"\n",
    "sns.countplot(x=\"Label_coded\",  data=data)\n",
    "plt.xlabel(\"Folders (coded)\", fontsize=15)\n",
    "plt.ylabel(\"Number of files\", fontsize=15)\n",
    "plt.tick_params(top='off', bottom='off', left='on', right='off', labelleft='on', labelbottom='on')\n",
    "\n",
    "plt.gca().spines['top'].set_visible(False)\n",
    "plt.gca().spines['right'].set_visible(False)\n",
    "plt.gca().spines['bottom'].set_color(\"gray\")\n"
   ]
  },
  {
   "cell_type": "code",
   "execution_count": 14,
   "metadata": {},
   "outputs": [],
   "source": [
    "from sklearn.model_selection import StratifiedShuffleSplit, StratifiedKFold, cross_val_score, train_test_split\n",
    "from sklearn import metrics\n"
   ]
  },
  {
   "cell_type": "code",
   "execution_count": null,
   "metadata": {},
   "outputs": [],
   "source": [
    "\"\"\"Alir3z4/python-stop-words  https://github.com/Alir3z4/python-stop-words\"\"\"\n",
    "#from stop_words import get_stop_words\n",
    "#from stop_words import safe_get_stop_words\n",
    "#stop_words = safe_get_stop_words('unsupported language')\n",
    "#stop_words = get_stop_words('german')\n",
    "#print(stop_words[:10])"
   ]
  },
  {
   "cell_type": "code",
   "execution_count": 17,
   "metadata": {},
   "outputs": [
    {
     "name": "stdout",
     "output_type": "stream",
     "text": [
      "['arabic', 'azerbaijani', 'danish', 'dutch', 'english', 'finnish', 'french', 'german', 'greek', 'hungarian', 'indonesian', 'italian', 'kazakh', 'nepali', 'norwegian', 'portuguese', 'romanian', 'russian', 'spanish', 'swedish', 'turkish']\n"
     ]
    }
   ],
   "source": [
    "from nltk.corpus import stopwords\n",
    "print(stopwords.fileids())"
   ]
  },
  {
   "cell_type": "code",
   "execution_count": 18,
   "metadata": {},
   "outputs": [],
   "source": [
    "from nltk.stem.snowball import SnowballStemmer\n",
    "from nltk import tokenize, FreqDist\n",
    "stemmer = SnowballStemmer(\"german\")\n",
    "X_processed=[]\n",
    "for row in X:\n",
    "    words=tokenize.word_tokenize(row)\n",
    "    for i in range(0, len(words)):\n",
    "        words[i]=stemmer.stem(words[i])\n",
    "    X_processed.append(\" \".join(words))"
   ]
  },
  {
   "cell_type": "code",
   "execution_count": 75,
   "metadata": {},
   "outputs": [],
   "source": [
    "stop_words=stopwords.words('german')\n",
    "type(stop_words)\n",
    "stop_words.append(\"https\")\n",
    "stop_words.append(\"www\")\n"
   ]
  },
  {
   "cell_type": "code",
   "execution_count": 76,
   "metadata": {},
   "outputs": [],
   "source": [
    "vectorizer=CountVectorizer(stop_words=stop_words)"
   ]
  },
  {
   "cell_type": "code",
   "execution_count": 77,
   "metadata": {},
   "outputs": [],
   "source": [
    "X_vect=vectorizer.fit_transform(i for i in X_processed)"
   ]
  },
  {
   "cell_type": "code",
   "execution_count": 78,
   "metadata": {},
   "outputs": [
    {
     "data": {
      "text/plain": [
       "(1390, 43502)"
      ]
     },
     "execution_count": 78,
     "metadata": {},
     "output_type": "execute_result"
    }
   ],
   "source": [
    "X_vect.shape"
   ]
  },
  {
   "cell_type": "code",
   "execution_count": 79,
   "metadata": {},
   "outputs": [],
   "source": [
    "tft=TfidfTransformer(use_idf=False)\n",
    "X_vect_norm=tft.fit_transform(X_vect)"
   ]
  },
  {
   "cell_type": "code",
   "execution_count": null,
   "metadata": {},
   "outputs": [],
   "source": [
    "vect1=CountVectorizer()\n",
    "X_v=vect1.fit_transform(X)\n",
    "X_v.shape"
   ]
  },
  {
   "cell_type": "code",
   "execution_count": null,
   "metadata": {},
   "outputs": [],
   "source": []
  },
  {
   "cell_type": "code",
   "execution_count": null,
   "metadata": {},
   "outputs": [],
   "source": [
    "\n",
    "words=tokenize.word_tokenize(X[5])"
   ]
  },
  {
   "cell_type": "code",
   "execution_count": null,
   "metadata": {},
   "outputs": [],
   "source": [
    "len(words)"
   ]
  },
  {
   "cell_type": "code",
   "execution_count": null,
   "metadata": {},
   "outputs": [],
   "source": [
    "freq1=FreqDist(words)"
   ]
  },
  {
   "cell_type": "code",
   "execution_count": null,
   "metadata": {},
   "outputs": [],
   "source": [
    "len(freq1.keys())"
   ]
  },
  {
   "cell_type": "code",
   "execution_count": null,
   "metadata": {},
   "outputs": [],
   "source": [
    "words_stemmed=[stemmer.stem(i) for i in words]\n"
   ]
  },
  {
   "cell_type": "code",
   "execution_count": null,
   "metadata": {},
   "outputs": [],
   "source": [
    "freq2=FreqDist(words_stemmed)\n",
    "len(freq2.keys())"
   ]
  },
  {
   "cell_type": "code",
   "execution_count": null,
   "metadata": {},
   "outputs": [],
   "source": [
    "words_clean=[]\n",
    "for w in words_stemmed:\n",
    "    if not w in stop_words:\n",
    "        words_clean.append(w)\n",
    "freq3=FreqDist(words_clean)\n",
    "len(freq3)"
   ]
  },
  {
   "cell_type": "code",
   "execution_count": null,
   "metadata": {},
   "outputs": [],
   "source": [
    "freq3"
   ]
  },
  {
   "cell_type": "code",
   "execution_count": null,
   "metadata": {},
   "outputs": [],
   "source": [
    "words_nopunkt = [w for w in words_clean if w.isalpha()]\n",
    "freq4=FreqDist(words_nopunkt)\n",
    "len(freq4)"
   ]
  },
  {
   "cell_type": "code",
   "execution_count": null,
   "metadata": {},
   "outputs": [],
   "source": [
    "freq4"
   ]
  },
  {
   "cell_type": "code",
   "execution_count": null,
   "metadata": {},
   "outputs": [],
   "source": []
  },
  {
   "cell_type": "code",
   "execution_count": 80,
   "metadata": {},
   "outputs": [],
   "source": [
    "import random\n",
    "random.seed(42)\n",
    "X_train, X_test, y_train, y_test=train_test_split(X_vect_norm, y1, test_size=0.2, stratify=y1, shuffle=True, random_state=12)"
   ]
  },
  {
   "cell_type": "code",
   "execution_count": 37,
   "metadata": {},
   "outputs": [],
   "source": [
    "from sklearn.linear_model import LogisticRegression\n",
    "from sklearn import metrics"
   ]
  },
  {
   "cell_type": "code",
   "execution_count": 38,
   "metadata": {},
   "outputs": [
    {
     "data": {
      "text/plain": [
       "LogisticRegression(C=1.0, class_weight=None, dual=False, fit_intercept=True,\n",
       "          intercept_scaling=1, max_iter=100, multi_class='ovr', n_jobs=1,\n",
       "          penalty='l2', random_state=12, solver='liblinear', tol=0.0001,\n",
       "          verbose=0, warm_start=False)"
      ]
     },
     "execution_count": 38,
     "metadata": {},
     "output_type": "execute_result"
    }
   ],
   "source": [
    "\n",
    "lr=LogisticRegression(random_state=12)\n",
    "lr.fit(X_train, y_train)"
   ]
  },
  {
   "cell_type": "code",
   "execution_count": 39,
   "metadata": {},
   "outputs": [],
   "source": [
    "f1_scorer=metrics.make_scorer(metrics.f1_score, average=\"weighted\" )\n",
    "cvs=cross_val_score(lr, X_train, y_train, scoring=f1_scorer, \n",
    "                    cv=StratifiedShuffleSplit(n_splits=5, test_size=0.2))"
   ]
  },
  {
   "cell_type": "code",
   "execution_count": 40,
   "metadata": {},
   "outputs": [
    {
     "data": {
      "text/plain": [
       "0.8848333221602644"
      ]
     },
     "execution_count": 40,
     "metadata": {},
     "output_type": "execute_result"
    }
   ],
   "source": [
    "cvs.mean()"
   ]
  },
  {
   "cell_type": "code",
   "execution_count": null,
   "metadata": {},
   "outputs": [],
   "source": [
    "metrics.accuracy_score(y_test, lr.predict(X_test))"
   ]
  },
  {
   "cell_type": "code",
   "execution_count": 60,
   "metadata": {},
   "outputs": [],
   "source": [
    "from sklearn.metrics import confusion_matrix\n",
    "import itertools"
   ]
  },
  {
   "cell_type": "code",
   "execution_count": 61,
   "metadata": {},
   "outputs": [],
   "source": [
    "\n",
    "cm1=confusion_matrix(lrm.predict(X_test), y_test)"
   ]
  },
  {
   "cell_type": "code",
   "execution_count": 62,
   "metadata": {},
   "outputs": [],
   "source": [
    "def plot_confusion_matrix(cm1, classes,\n",
    "                          normalize=False,\n",
    "                          title='Confusion matrix',\n",
    "                          cmap=plt.cm.Blues):\n",
    "    \"\"\"\n",
    "    This function prints and plots the confusion matrix.\n",
    "    Normalization can be applied by setting `normalize=True`.\n",
    "    \"\"\"\n",
    "    if normalize:\n",
    "        cm1 = cm1.astype('float') / cm1.sum(axis=1)[:, np.newaxis]\n",
    "        print(\"Normalized confusion matrix\")\n",
    "    else:\n",
    "        print('Confusion matrix, without normalization')\n",
    "\n",
    "    #print(cm1)\n",
    "\n",
    "    plt.imshow(cm1, interpolation='nearest', cmap=cmap)\n",
    "    plt.title(title)\n",
    "    plt.colorbar(aspect=5)\n",
    "    tick_marks = np.arange(len(classes))\n",
    "    plt.xticks(tick_marks, classes, rotation=45)\n",
    "    plt.yticks(tick_marks, classes)\n",
    "\n",
    "    fmt = '.2f' if normalize else 'd'\n",
    "    thresh = cm1.max() / 2.\n",
    "    for i, j in itertools.product(range(cm1.shape[0]), range(cm1.shape[1])):\n",
    "        plt.text(j, i, format(cm1[i, j], fmt),\n",
    "                 horizontalalignment=\"center\",\n",
    "                 color=\"white\" if cm1[i, j] > thresh else \"black\")\n",
    "\n",
    "    plt.tight_layout()\n",
    "    plt.ylabel('True label')\n",
    "    plt.xlabel('Predicted label')\n",
    "\n"
   ]
  },
  {
   "cell_type": "code",
   "execution_count": 63,
   "metadata": {},
   "outputs": [
    {
     "name": "stdout",
     "output_type": "stream",
     "text": [
      "Confusion matrix, without normalization\n"
     ]
    },
    {
     "data": {
      "image/png": "[encoded data removed]",
      "text/plain": [
       "<Figure size 720x720 with 2 Axes>"
      ]
     },
     "metadata": {},
     "output_type": "display_data"
    }
   ],
   "source": [
    "np.set_printoptions(precision=2)\n",
    "plt.figure(figsize=(10,10))\n",
    "plot_confusion_matrix(cm1, classes=d.values(), normalize=False,\n",
    "                      title='Not normalized confusion matrix')\n",
    "\n",
    "plt.show()"
   ]
  },
  {
   "cell_type": "code",
   "execution_count": 64,
   "metadata": {},
   "outputs": [
    {
     "name": "stdout",
     "output_type": "stream",
     "text": [
      "Normalized confusion matrix\n"
     ]
    },
    {
     "data": {
      "image/png": "[encoded data removed]",
      "text/plain": [
       "<Figure size 720x720 with 2 Axes>"
      ]
     },
     "metadata": {},
     "output_type": "display_data"
    }
   ],
   "source": [
    "np.set_printoptions(precision=2)\n",
    "plt.figure(figsize=(10,10))\n",
    "plot_confusion_matrix(cm1, classes=d.values(), normalize=True,\n",
    "                      title='Normalized confusion matrix')\n",
    "\n",
    "plt.show()"
   ]
  },
  {
   "cell_type": "code",
   "execution_count": 42,
   "metadata": {},
   "outputs": [],
   "source": [
    "from imblearn.over_sampling import SMOTE\n",
    "from sklearn.metrics import classification_report"
   ]
  },
  {
   "cell_type": "code",
   "execution_count": null,
   "metadata": {},
   "outputs": [],
   "source": [
    "print(classification_report(lr.predict(X_test), y_test))"
   ]
  },
  {
   "cell_type": "code",
   "execution_count": null,
   "metadata": {},
   "outputs": [],
   "source": []
  },
  {
   "cell_type": "code",
   "execution_count": 81,
   "metadata": {},
   "outputs": [],
   "source": [
    "sm=SMOTE(k_neighbors=3)\n",
    "X_train_res, y_train_res=sm.fit_sample(X_train, y_train)"
   ]
  },
  {
   "cell_type": "code",
   "execution_count": null,
   "metadata": {},
   "outputs": [],
   "source": [
    "lr1=LogisticRegression(random_state=12)\n",
    "lr1.fit(X_train_res, y_train_res)"
   ]
  },
  {
   "cell_type": "code",
   "execution_count": null,
   "metadata": {},
   "outputs": [],
   "source": [
    "Counter(y_train_res).items()"
   ]
  },
  {
   "cell_type": "code",
   "execution_count": null,
   "metadata": {},
   "outputs": [],
   "source": [
    "print(classification_report(lr1.predict(X_test), y_test, digits=3))"
   ]
  },
  {
   "cell_type": "code",
   "execution_count": null,
   "metadata": {},
   "outputs": [],
   "source": [
    "\n",
    "metrics.accuracy_score(lr1.predict(X_test), np.array(y_test))"
   ]
  },
  {
   "cell_type": "code",
   "execution_count": null,
   "metadata": {},
   "outputs": [],
   "source": [
    "cvs1=cross_val_score(lr1, X_train_res, y_train_res, scoring=f1_scorer, \n",
    "                    cv=StratifiedShuffleSplit(n_splits=5, test_size=0.2))"
   ]
  },
  {
   "cell_type": "code",
   "execution_count": null,
   "metadata": {},
   "outputs": [],
   "source": [
    "cvs1.mean()"
   ]
  },
  {
   "cell_type": "code",
   "execution_count": null,
   "metadata": {},
   "outputs": [],
   "source": [
    "from imblearn.over_sampling import ADASYN\n"
   ]
  },
  {
   "cell_type": "code",
   "execution_count": null,
   "metadata": {},
   "outputs": [],
   "source": [
    "adasyn=ADASYN(n_neighbors=3)"
   ]
  },
  {
   "cell_type": "code",
   "execution_count": null,
   "metadata": {},
   "outputs": [],
   "source": [
    "X_train_res_a, y_train_res_a=sm.fit_sample(X_train, y_train)\n",
    "lr2=LogisticRegression(random_state=12)\n",
    "lr2.fit(X_train_res_a, y_train_res_a)\n",
    "cvs2=cross_val_score(lr2, X_train_res_a, y_train_res_a, scoring=f1_scorer, \n",
    "                    cv=StratifiedShuffleSplit(n_splits=5, test_size=0.2))"
   ]
  },
  {
   "cell_type": "code",
   "execution_count": null,
   "metadata": {},
   "outputs": [],
   "source": [
    "cvs2.mean()"
   ]
  },
  {
   "cell_type": "code",
   "execution_count": null,
   "metadata": {},
   "outputs": [],
   "source": [
    "print(classification_report(lr2.predict(X_test), y_test))"
   ]
  },
  {
   "cell_type": "code",
   "execution_count": null,
   "metadata": {},
   "outputs": [],
   "source": [
    "from sklearn.decomposition import TruncatedSVD\n",
    "from sklearn.manifold import TSNE"
   ]
  },
  {
   "cell_type": "code",
   "execution_count": null,
   "metadata": {},
   "outputs": [],
   "source": [
    "svd=TruncatedSVD(random_state=12)\n",
    "truncated_data=svd.fit_transform(X_vect)"
   ]
  },
  {
   "cell_type": "code",
   "execution_count": null,
   "metadata": {},
   "outputs": [],
   "source": [
    "\n",
    "import matplotlib.cm as cm\n",
    "y_=pd.DataFrame(y1)\n",
    "plt.figure(figsize=(10,6))\n",
    "colors = cm.rainbow(np.linspace(0, 1, len(set(y1))))\n",
    "for yy, c in zip(set(y1), colors):\n",
    "    plt.scatter(truncated_data[y_[y_.values==yy].index.values, 0], \n",
    "                truncated_data[y_[y_.values==yy].index.values, 1], c=c, alpha=0.8, label=str(yy))\n",
    "plt.legend()"
   ]
  },
  {
   "cell_type": "code",
   "execution_count": null,
   "metadata": {},
   "outputs": [],
   "source": [
    "from sklearn.neighbors import KNeighborsClassifier\n",
    "from sklearn.ensemble import RandomForestClassifier\n",
    "from sklearn.svm import SVC\n",
    "from sklearn.naive_bayes import MultinomialNB"
   ]
  },
  {
   "cell_type": "code",
   "execution_count": null,
   "metadata": {},
   "outputs": [],
   "source": [
    "random.seed(12)\n",
    "classifiers={RandomForestClassifier(random_state=12),\n",
    "             KNeighborsClassifier(),\n",
    "             SVC(random_state=12),\n",
    "             LogisticRegression(random_state=12, multi_class=\"multinomial\", C=2, solver=\"lbfgs\"),\n",
    "             MultinomialNB()\n",
    "             }\n"
   ]
  },
  {
   "cell_type": "code",
   "execution_count": null,
   "metadata": {},
   "outputs": [],
   "source": [
    "random.seed(42)\n",
    "result=pd.DataFrame(columns=[\"Classifier\",  \"F1\"])\n",
    "for clf in classifiers:\n",
    "    cv=cross_val_score(clf, X_train, y_train, cv=StratifiedShuffleSplit(test_size=0.3), scoring=f1_scorer, n_jobs=-1)\n",
    "    entry=pd.DataFrame([[clf.__class__.__name__,  cv.mean()]],\n",
    "                           columns=[\"Classifier\",  \"F1\"])\n",
    "   \n",
    "    result=result.append(entry, ignore_index=True)\n",
    "result=result.sort_values(\"F1\", ascending=False).reset_index(drop=True)\n",
    "result"
   ]
  },
  {
   "cell_type": "code",
   "execution_count": null,
   "metadata": {},
   "outputs": [],
   "source": [
    "random.seed(42)\n",
    "result_SMOTE=pd.DataFrame(columns=[\"Classifier\",  \"F1\"])\n",
    "for clf in classifiers:\n",
    "    clf.fit(X_train_res, y_train_res)\n",
    "    entry=pd.DataFrame([[clf.__class__.__name__,  metrics.f1_score(y_test, clf.predict(X_test), average=\"weighted\")]],\n",
    "                           columns=[\"Classifier\",  \"F1\"])\n",
    "   \n",
    "    result_SMOTE=result_SMOTE.append(entry, ignore_index=True)\n",
    "result_SMOTE=result_SMOTE.sort_values(\"F1\", ascending=False).reset_index(drop=True)\n",
    "result_SMOTE"
   ]
  },
  {
   "cell_type": "code",
   "execution_count": null,
   "metadata": {},
   "outputs": [],
   "source": [
    "random.seed(42)\n",
    "result_ADASYN=pd.DataFrame(columns=[\"Classifier\",  \"F1\"])\n",
    "for clf in classifiers:\n",
    "    clf.fit(X_train_res, y_train_res)\n",
    "    entry=pd.DataFrame([[clf.__class__.__name__,  metrics.f1_score(y_test, clf.predict(X_test), average=\"weighted\")]],\n",
    "                           columns=[\"Classifier\",  \"F1\"])\n",
    "   \n",
    "    result_ADASYN=result_ADASYN.append(entry, ignore_index=True)\n",
    "result_ADASYN=result_ADASYN.sort_values(\"F1\", ascending=False).reset_index(drop=True)\n",
    "result_ADASYN"
   ]
  },
  {
   "cell_type": "code",
   "execution_count": null,
   "metadata": {},
   "outputs": [],
   "source": [
    "sns.barplot(data=result_SMOTE, y=\"Classifier\", x=\"F1\", orient=\"h\" )\n",
    "plt.title(\"Classifiers performance based on F1-score\")\n",
    "plt.tick_params(top='off', bottom='off', left='on', right='off', labelleft='on', labelbottom='on')\n",
    "plt.xlim(0,1)\n",
    "\n",
    "plt.gca().spines['top'].set_visible(False)\n",
    "plt.gca().spines['right'].set_visible(False)\n",
    "plt.gca().spines['bottom'].set_color(\"black\")"
   ]
  },
  {
   "cell_type": "code",
   "execution_count": null,
   "metadata": {},
   "outputs": [],
   "source": []
  },
  {
   "cell_type": "code",
   "execution_count": null,
   "metadata": {},
   "outputs": [],
   "source": [
    "vectorizer.vocabulary_.value(423)"
   ]
  },
  {
   "cell_type": "code",
   "execution_count": null,
   "metadata": {},
   "outputs": [],
   "source": [
    "inv_map = {v: k for k, v in vectorizer.vocabulary_.items()}"
   ]
  },
  {
   "cell_type": "code",
   "execution_count": 82,
   "metadata": {},
   "outputs": [
    {
     "data": {
      "text/plain": [
       "LogisticRegression(C=2, class_weight=None, dual=False, fit_intercept=True,\n",
       "          intercept_scaling=1, max_iter=100, multi_class='multinomial',\n",
       "          n_jobs=1, penalty='l2', random_state=None, solver='lbfgs',\n",
       "          tol=0.0001, verbose=0, warm_start=False)"
      ]
     },
     "execution_count": 82,
     "metadata": {},
     "output_type": "execute_result"
    }
   ],
   "source": [
    "from sklearn.model_selection import GridSearchCV\n",
    "lrm=LogisticRegression(multi_class=\"multinomial\", C=2, solver=\"lbfgs\")\n",
    "lrm.fit(X_train_res, y_train_res)"
   ]
  },
  {
   "cell_type": "code",
   "execution_count": null,
   "metadata": {},
   "outputs": [],
   "source": [
    "params={\"C\": [0.1, 0.5, 1, 2],\n",
    "        \"multi_class\": [\"ovr\", \"multinomial\"],\n",
    "        \"solver\": [\"lbfgs\"]\n",
    "         \n",
    "}\n",
    "grid=GridSearchCV(LogisticRegression(), param_grid=params, cv=StratifiedShuffleSplit(n_splits=5), \n",
    "                  scoring=f1_scorer, n_jobs=-1, return_train_score=False)\n",
    "grid.fit(X_train, y_train)"
   ]
  },
  {
   "cell_type": "code",
   "execution_count": null,
   "metadata": {},
   "outputs": [],
   "source": [
    "lrm.get_params().keys()"
   ]
  },
  {
   "cell_type": "code",
   "execution_count": null,
   "metadata": {},
   "outputs": [],
   "source": [
    "grid.best_params_"
   ]
  },
  {
   "cell_type": "code",
   "execution_count": null,
   "metadata": {},
   "outputs": [],
   "source": [
    "grid.best_score_"
   ]
  },
  {
   "cell_type": "code",
   "execution_count": 83,
   "metadata": {},
   "outputs": [
    {
     "name": "stdout",
     "output_type": "stream",
     "text": [
      "             precision    recall  f1-score   support\n",
      "\n",
      "          0      1.000     0.800     0.889        10\n",
      "          1      0.984     0.984     0.984        61\n",
      "          2      0.895     0.944     0.919        36\n",
      "          3      1.000     0.964     0.982        28\n",
      "          4      1.000     1.000     1.000         2\n",
      "          5      1.000     1.000     1.000         1\n",
      "          6      1.000     1.000     1.000        25\n",
      "          7      1.000     1.000     1.000        15\n",
      "          8      1.000     1.000     1.000         1\n",
      "          9      1.000     1.000     1.000         4\n",
      "         10      0.902     0.902     0.902        41\n",
      "         11      1.000     1.000     1.000        14\n",
      "         12      1.000     1.000     1.000         3\n",
      "         13      1.000     1.000     1.000         5\n",
      "         14      1.000     1.000     1.000        27\n",
      "         15      0.833     1.000     0.909         5\n",
      "\n",
      "avg / total      0.965     0.964     0.964       278\n",
      "\n"
     ]
    }
   ],
   "source": [
    "print(classification_report(lrm.predict(X_test), y_test, digits=3))"
   ]
  },
  {
   "cell_type": "code",
   "execution_count": 46,
   "metadata": {},
   "outputs": [
    {
     "data": {
      "text/plain": [
       "0.9676258992805755"
      ]
     },
     "execution_count": 46,
     "metadata": {},
     "output_type": "execute_result"
    }
   ],
   "source": [
    "metrics.accuracy_score(lrm.predict(X_test), y_test)"
   ]
  },
  {
   "cell_type": "code",
   "execution_count": 57,
   "metadata": {},
   "outputs": [
    {
     "name": "stdout",
     "output_type": "stream",
     "text": [
      "Label:Amazon - diverse. Keywords: luxemburg unlimited buch all http artikel erstatt kindl preis amazon\n",
      "Label:Angebote-Werbung-Newsletter. Keywords: ab ref http gp notebooksbilliger 2017 nl euro newslett de\n",
      "Label:Bestellbest┬Дaetigungen. Keywords: widerrufsrecht liefer postleitzahl sach dank strass network bestellbestat playstation bestell\n",
      "Label:Amazon. Keywords: uber mocht bitt westfal nordrhein sendung besuch eur amazon bestell\n",
      "Label:Kino. Keywords: kinopolis 15 kart reservierungsnumm sitzplatz kino reserviert buchungsbestat platz cineplex\n",
      "Label:Mietwagen. Keywords: 66 reservier 00 fahr dt eur 44 25 bonn sixt\n",
      "Label:Rechnungen. Keywords: pdf online foodora tomtom gesamt mwst 2017 19 nr rechnung\n",
      "Label:Reisen. Keywords: bahn com nachnam unterkunft tripadvisor fur travel reis hotel buchung\n",
      "Label:Retoure. Keywords: 38 rucksend link amazon uber 95 mytoys retour retourensend zalando\n",
      "Label:Veranstaltungen. Keywords: 10 comedy 05 html 14 go ab service ticket eventim\n",
      "Label:Versandbestae┬Дtigung. Keywords: de versandbestat versendet paket you verschickt versand liefer ref wurd\n",
      "Label:DHL. Keywords: impressum information packstation go mailing paketankund de sendung paket dhl\n",
      "Label:DPD. Keywords: uhr zustell tag deutsch zwisch abstellgenehm konn paket aschaffenburg dpd\n",
      "Label:GLS. Keywords: system general hersfeld neuenstein wahl paket registergericht sitz gmbh gls\n",
      "Label:UPS. Keywords: united delivery america numb parcel to com of servic ups\n",
      "Label:Zahlungseingang. Keywords: freundlich payment this aliexpress konto your bestell ord zahlungseingang zahlung\n"
     ]
    }
   ],
   "source": [
    "feature_names = np.asarray(vectorizer.get_feature_names())\n",
    "for i, label in enumerate(d.keys()):\n",
    "    top10 = np.argsort(lrm.coef_[i])[-10:]\n",
    "    print(\"Label:{}. Keywords: {}\".format(label, \" \".join(feature_names[top10])))"
   ]
  },
  {
   "cell_type": "code",
   "execution_count": null,
   "metadata": {},
   "outputs": [],
   "source": []
  },
  {
   "cell_type": "code",
   "execution_count": null,
   "metadata": {},
   "outputs": [],
   "source": []
  },
  {
   "cell_type": "code",
   "execution_count": null,
   "metadata": {},
   "outputs": [],
   "source": []
  }
 ],
 "metadata": {
  "kernelspec": {
   "display_name": "Python 3",
   "language": "python",
   "name": "python3"
  },
  "language_info": {
   "codemirror_mode": {
    "name": "ipython",
    "version": 3
   },
   "file_extension": ".py",
   "mimetype": "text/x-python",
   "name": "python",
   "nbconvert_exporter": "python",
   "pygments_lexer": "ipython3",
   "version": "3.6.5"
  }
 },
 "nbformat": 4,
 "nbformat_minor": 2
}
